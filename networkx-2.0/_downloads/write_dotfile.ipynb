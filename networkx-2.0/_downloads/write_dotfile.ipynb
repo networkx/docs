{
  "nbformat_minor": 0, 
  "nbformat": 4, 
  "cells": [
    {
      "execution_count": null, 
      "cell_type": "code", 
      "source": [
        "%matplotlib inline"
      ], 
      "outputs": [], 
      "metadata": {
        "collapsed": false
      }
    }, 
    {
      "source": [
        "\n# Write Dotfile\n\n\n\nWrite a dot file from a networkx graph for further processing with graphviz.\n\nYou need to have either pygraphviz or pydot for this example.\n\nSee https://networkx.org/documentation/latest/reference/drawing.html\nfor more info.\n\n\n"
      ], 
      "cell_type": "markdown", 
      "metadata": {}
    }, 
    {
      "execution_count": null, 
      "cell_type": "code", 
      "source": [
        "# Author: Aric Hagberg (hagberg@lanl.gov)\n\n#    Copyright (C) 2004-2017 by\n#    Aric Hagberg <hagberg@lanl.gov>\n#    Dan Schult <dschult@colgate.edu>\n#    Pieter Swart <swart@lanl.gov>\n#    All rights reserved.\n#    BSD license.\n\nimport networkx as nx\n\n# and the following code block is not needed\n# but we want to see which module is used and\n# if and why it fails\ntry:\n    import pygraphviz\n    from networkx.drawing.nx_agraph import write_dot\n    print(\"using package pygraphviz\")\nexcept ImportError:\n    try:\n        import pydot\n        from networkx.drawing.nx_pydot import write_dot\n        print(\"using package pydot\")\n    except ImportError:\n        print()\n        print(\"Both pygraphviz and pydot were not found \")\n        print(\"see  https://networkx.org/documentation/latest/reference/drawing.html\")\n        print()\n        raise\n\nG = nx.grid_2d_graph(5, 5)  # 5x5 grid\nwrite_dot(G, \"grid.dot\")\nprint(\"Now run: neato -Tps grid.dot >grid.ps\")"
      ], 
      "outputs": [], 
      "metadata": {
        "collapsed": false
      }
    }
  ], 
  "metadata": {
    "kernelspec": {
      "display_name": "Python 2", 
      "name": "python2", 
      "language": "python"
    }, 
    "language_info": {
      "mimetype": "text/x-python", 
      "nbconvert_exporter": "python", 
      "name": "python", 
      "file_extension": ".py", 
      "version": "2.7.13", 
      "pygments_lexer": "ipython2", 
      "codemirror_mode": {
        "version": 2, 
        "name": "ipython"
      }
    }
  }
}
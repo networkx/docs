{
 "cells": [
  {
   "cell_type": "markdown",
   "id": "ea20f127",
   "metadata": {},
   "source": [
    "## Tutorial\n",
    "\n",
    "This guide can help you start working with NetworkX.\n",
    "\n",
    "### Creating a graph\n",
    "\n",
    "Create an empty graph with no nodes and no edges."
   ]
  },
  {
   "cell_type": "code",
   "execution_count": 1,
   "id": "1d38fdf0",
   "metadata": {
    "execution": {
     "iopub.execute_input": "2021-07-08T17:38:28.684062Z",
     "iopub.status.busy": "2021-07-08T17:38:28.683540Z",
     "iopub.status.idle": "2021-07-08T17:38:28.749336Z",
     "shell.execute_reply": "2021-07-08T17:38:28.749763Z"
    }
   },
   "outputs": [],
   "source": [
    "import networkx as nx\n",
    "G = nx.Graph()"
   ]
  },
  {
   "cell_type": "markdown",
   "id": "86ca1647",
   "metadata": {},
   "source": [
    "By definition, a `Graph` is a collection of nodes (vertices) along with\n",
    "identified pairs of nodes (called edges, links, etc).  In NetworkX, nodes can\n",
    "be any [hashable](https://docs.python.org/3/glossary.html#term-hashable) object e.g., a text string, an image, an XML object,\n",
    "another Graph, a customized node object, etc.\n",
    "\n",
    "# Nodes\n",
    "\n",
    "The graph `G` can be grown in several ways.  NetworkX includes many graph\n",
    "generator functions and facilities to read and write graphs in many formats.\n",
    "To get started though we’ll look at simple manipulations.  You can add one node\n",
    "at a time,"
   ]
  },
  {
   "cell_type": "code",
   "execution_count": 2,
   "id": "6343db7f",
   "metadata": {
    "execution": {
     "iopub.execute_input": "2021-07-08T17:38:28.753795Z",
     "iopub.status.busy": "2021-07-08T17:38:28.753261Z",
     "iopub.status.idle": "2021-07-08T17:38:28.754886Z",
     "shell.execute_reply": "2021-07-08T17:38:28.755294Z"
    }
   },
   "outputs": [],
   "source": [
    "G.add_node(1)"
   ]
  },
  {
   "cell_type": "markdown",
   "id": "5660bcae",
   "metadata": {},
   "source": [
    "or add nodes from any [iterable](https://docs.python.org/3/glossary.html#term-iterable) container, such as a list"
   ]
  },
  {
   "cell_type": "code",
   "execution_count": 3,
   "id": "1def8c72",
   "metadata": {
    "execution": {
     "iopub.execute_input": "2021-07-08T17:38:28.759220Z",
     "iopub.status.busy": "2021-07-08T17:38:28.758213Z",
     "iopub.status.idle": "2021-07-08T17:38:28.759738Z",
     "shell.execute_reply": "2021-07-08T17:38:28.760110Z"
    }
   },
   "outputs": [],
   "source": [
    "G.add_nodes_from([2, 3])"
   ]
  },
  {
   "cell_type": "markdown",
   "id": "b61f858e",
   "metadata": {},
   "source": [
    "You can also add nodes along with node\n",
    "attributes if your container yields 2-tuples of the form\n",
    "`(node, node_attribute_dict)`:\n",
    "\n",
    "```\n",
    ">>> G.add_nodes_from([\n",
    "...     (4, {\"color\": \"red\"}),\n",
    "...     (5, {\"color\": \"green\"}),\n",
    "... ])\n",
    "```\n",
    "\n",
    "Node attributes are discussed further below.\n",
    "\n",
    "Nodes from one graph can be incorporated into another:"
   ]
  },
  {
   "cell_type": "code",
   "execution_count": 4,
   "id": "38443cb4",
   "metadata": {
    "execution": {
     "iopub.execute_input": "2021-07-08T17:38:28.764571Z",
     "iopub.status.busy": "2021-07-08T17:38:28.763554Z",
     "iopub.status.idle": "2021-07-08T17:38:28.765105Z",
     "shell.execute_reply": "2021-07-08T17:38:28.765485Z"
    }
   },
   "outputs": [],
   "source": [
    "H = nx.path_graph(10)\n",
    "G.add_nodes_from(H)"
   ]
  },
  {
   "cell_type": "markdown",
   "id": "56404cf5",
   "metadata": {},
   "source": [
    "`G` now contains the nodes of `H` as nodes of `G`.\n",
    "In contrast, you could use the graph `H` as a node in `G`."
   ]
  },
  {
   "cell_type": "code",
   "execution_count": 5,
   "id": "6a644a8f",
   "metadata": {
    "execution": {
     "iopub.execute_input": "2021-07-08T17:38:28.769199Z",
     "iopub.status.busy": "2021-07-08T17:38:28.768203Z",
     "iopub.status.idle": "2021-07-08T17:38:28.769810Z",
     "shell.execute_reply": "2021-07-08T17:38:28.770185Z"
    }
   },
   "outputs": [],
   "source": [
    "G.add_node(H)"
   ]
  },
  {
   "cell_type": "markdown",
   "id": "e0c0b35a",
   "metadata": {},
   "source": [
    "The graph `G` now contains `H` as a node.  This flexibility is very powerful as\n",
    "it allows graphs of graphs, graphs of files, graphs of functions and much more.\n",
    "It is worth thinking about how to structure your application so that the nodes\n",
    "are useful entities.  Of course you can always use a unique identifier in `G`\n",
    "and have a separate dictionary keyed by identifier to the node information if\n",
    "you prefer.\n",
    "\n",
    "# Edges\n",
    "\n",
    "`G` can also be grown by adding one edge at a time,"
   ]
  },
  {
   "cell_type": "code",
   "execution_count": 6,
   "id": "822479a0",
   "metadata": {
    "execution": {
     "iopub.execute_input": "2021-07-08T17:38:28.774310Z",
     "iopub.status.busy": "2021-07-08T17:38:28.773214Z",
     "iopub.status.idle": "2021-07-08T17:38:28.774852Z",
     "shell.execute_reply": "2021-07-08T17:38:28.775225Z"
    }
   },
   "outputs": [],
   "source": [
    "G.add_edge(1, 2)\n",
    "e = (2, 3)\n",
    "G.add_edge(*e)  # unpack edge tuple*"
   ]
  },
  {
   "cell_type": "markdown",
   "id": "f821f192",
   "metadata": {},
   "source": [
    "by adding a list of edges,"
   ]
  },
  {
   "cell_type": "code",
   "execution_count": 7,
   "id": "d77d1b1a",
   "metadata": {
    "execution": {
     "iopub.execute_input": "2021-07-08T17:38:28.778983Z",
     "iopub.status.busy": "2021-07-08T17:38:28.777989Z",
     "iopub.status.idle": "2021-07-08T17:38:28.779602Z",
     "shell.execute_reply": "2021-07-08T17:38:28.779979Z"
    }
   },
   "outputs": [],
   "source": [
    "G.add_edges_from([(1, 2), (1, 3)])"
   ]
  },
  {
   "cell_type": "markdown",
   "id": "7b665264",
   "metadata": {},
   "source": [
    "or by adding any ebunch of edges.  An *ebunch* is any iterable\n",
    "container of edge-tuples.  An edge-tuple can be a 2-tuple of nodes or a 3-tuple\n",
    "with 2 nodes followed by an edge attribute dictionary, e.g.,\n",
    "`(2, 3, {'weight': 3.1415})`.  Edge attributes are discussed further\n",
    "below."
   ]
  },
  {
   "cell_type": "code",
   "execution_count": 8,
   "id": "b7e7ff23",
   "metadata": {
    "execution": {
     "iopub.execute_input": "2021-07-08T17:38:28.783698Z",
     "iopub.status.busy": "2021-07-08T17:38:28.782658Z",
     "iopub.status.idle": "2021-07-08T17:38:28.784219Z",
     "shell.execute_reply": "2021-07-08T17:38:28.784594Z"
    }
   },
   "outputs": [],
   "source": [
    "G.add_edges_from(H.edges)"
   ]
  },
  {
   "cell_type": "markdown",
   "id": "ce0e7293",
   "metadata": {},
   "source": [
    "There are no complaints when adding existing nodes or edges. For example,\n",
    "after removing all nodes and edges,"
   ]
  },
  {
   "cell_type": "code",
   "execution_count": 9,
   "id": "b6d0a98b",
   "metadata": {
    "execution": {
     "iopub.execute_input": "2021-07-08T17:38:28.787477Z",
     "iopub.status.busy": "2021-07-08T17:38:28.787017Z",
     "iopub.status.idle": "2021-07-08T17:38:28.790397Z",
     "shell.execute_reply": "2021-07-08T17:38:28.790014Z"
    }
   },
   "outputs": [],
   "source": [
    "G.clear()"
   ]
  },
  {
   "cell_type": "markdown",
   "id": "3c23c535",
   "metadata": {},
   "source": [
    "we add new nodes/edges and NetworkX quietly ignores any that are\n",
    "already present."
   ]
  },
  {
   "cell_type": "code",
   "execution_count": 10,
   "id": "fbeb92c3",
   "metadata": {
    "execution": {
     "iopub.execute_input": "2021-07-08T17:38:28.794537Z",
     "iopub.status.busy": "2021-07-08T17:38:28.794051Z",
     "iopub.status.idle": "2021-07-08T17:38:28.797140Z",
     "shell.execute_reply": "2021-07-08T17:38:28.797487Z"
    }
   },
   "outputs": [],
   "source": [
    "G.add_edges_from([(1, 2), (1, 3)])\n",
    "G.add_node(1)\n",
    "G.add_edge(1, 2)\n",
    "G.add_node(\"spam\")        # adds node \"spam\"\n",
    "G.add_nodes_from(\"spam\")  # adds 4 nodes: 's', 'p', 'a', 'm'\n",
    "G.add_edge(3, 'm')"
   ]
  },
  {
   "cell_type": "markdown",
   "id": "e85789bc",
   "metadata": {},
   "source": [
    "At this stage the graph `G` consists of 8 nodes and 3 edges, as can be seen by:"
   ]
  },
  {
   "cell_type": "code",
   "execution_count": 11,
   "id": "91f4d2ca",
   "metadata": {
    "execution": {
     "iopub.execute_input": "2021-07-08T17:38:28.805724Z",
     "iopub.status.busy": "2021-07-08T17:38:28.805274Z",
     "iopub.status.idle": "2021-07-08T17:38:28.807347Z",
     "shell.execute_reply": "2021-07-08T17:38:28.807790Z"
    }
   },
   "outputs": [
    {
     "data": {
      "text/plain": [
       "3"
      ]
     },
     "execution_count": 11,
     "metadata": {},
     "output_type": "execute_result"
    }
   ],
   "source": [
    "G.number_of_nodes()\n",
    "G.number_of_edges()"
   ]
  },
  {
   "cell_type": "code",
   "execution_count": 12,
   "id": "504d9a8c",
   "metadata": {
    "execution": {
     "iopub.execute_input": "2021-07-08T17:38:28.812213Z",
     "iopub.status.busy": "2021-07-08T17:38:28.811765Z",
     "iopub.status.idle": "2021-07-08T17:38:28.814378Z",
     "shell.execute_reply": "2021-07-08T17:38:28.814743Z"
    }
   },
   "outputs": [],
   "source": [
    "DG = nx.DiGraph()\n",
    "DG.add_edge(2, 1)   # adds the nodes in order 2, 1\n",
    "DG.add_edge(1, 3)\n",
    "DG.add_edge(2, 4)\n",
    "DG.add_edge(1, 2)\n",
    "assert list(DG.successors(2)) == [1, 4]\n",
    "assert list(DG.edges) == [(2, 1), (2, 4), (1, 3), (1, 2)]"
   ]
  },
  {
   "cell_type": "markdown",
   "id": "7e0b3c20",
   "metadata": {},
   "source": [
    "# Examining elements of a graph\n",
    "\n",
    "We can examine the nodes and edges. Four basic graph properties facilitate\n",
    "reporting: `G.nodes`, `G.edges`, `G.adj` and `G.degree`.  These\n",
    "are set-like views of the nodes, edges, neighbors (adjacencies), and degrees\n",
    "of nodes in a graph. They offer a continually updated read-only view into\n",
    "the graph structure. They are also dict-like in that you can look up node\n",
    "and edge data attributes via the views and iterate with data attributes\n",
    "using methods `.items()`, `.data('span')`.\n",
    "If you want a specific container type instead of a view, you can specify one.\n",
    "Here we use lists, though sets, dicts, tuples and other containers may be\n",
    "better in other contexts."
   ]
  },
  {
   "cell_type": "code",
   "execution_count": 13,
   "id": "516c1015",
   "metadata": {
    "execution": {
     "iopub.execute_input": "2021-07-08T17:38:28.818995Z",
     "iopub.status.busy": "2021-07-08T17:38:28.818544Z",
     "iopub.status.idle": "2021-07-08T17:38:28.823734Z",
     "shell.execute_reply": "2021-07-08T17:38:28.822962Z"
    }
   },
   "outputs": [
    {
     "data": {
      "text/plain": [
       "2"
      ]
     },
     "execution_count": 13,
     "metadata": {},
     "output_type": "execute_result"
    }
   ],
   "source": [
    "list(G.nodes)\n",
    "list(G.edges)\n",
    "list(G.adj[1])  # or list(G.neighbors(1))\n",
    "G.degree[1]  # the number of edges incident to 1"
   ]
  },
  {
   "cell_type": "markdown",
   "id": "afa56085",
   "metadata": {},
   "source": [
    "One can specify to report the edges and degree from a subset of all nodes\n",
    "using an nbunch. An *nbunch* is any of: `None` (meaning all nodes),\n",
    "a node, or an iterable container of nodes that is not itself a node in the\n",
    "graph."
   ]
  },
  {
   "cell_type": "code",
   "execution_count": 14,
   "id": "8a2abd68",
   "metadata": {
    "execution": {
     "iopub.execute_input": "2021-07-08T17:38:28.827473Z",
     "iopub.status.busy": "2021-07-08T17:38:28.827032Z",
     "iopub.status.idle": "2021-07-08T17:38:28.831490Z",
     "shell.execute_reply": "2021-07-08T17:38:28.831093Z"
    }
   },
   "outputs": [
    {
     "data": {
      "text/plain": [
       "DegreeView({2: 1, 3: 2})"
      ]
     },
     "execution_count": 14,
     "metadata": {},
     "output_type": "execute_result"
    }
   ],
   "source": [
    "G.edges([2, 'm'])\n",
    "G.degree([2, 3])"
   ]
  },
  {
   "cell_type": "markdown",
   "id": "150b6ffb",
   "metadata": {},
   "source": [
    "# Removing elements from a graph\n",
    "\n",
    "One can remove nodes and edges from the graph in a similar fashion to adding.\n",
    "Use methods\n",
    "`Graph.remove_node()`,\n",
    "`Graph.remove_nodes_from()`,\n",
    "`Graph.remove_edge()`\n",
    "and\n",
    "`Graph.remove_edges_from()`, e.g."
   ]
  },
  {
   "cell_type": "code",
   "execution_count": 15,
   "id": "b1730bea",
   "metadata": {
    "execution": {
     "iopub.execute_input": "2021-07-08T17:38:28.835012Z",
     "iopub.status.busy": "2021-07-08T17:38:28.834564Z",
     "iopub.status.idle": "2021-07-08T17:38:28.837704Z",
     "shell.execute_reply": "2021-07-08T17:38:28.837308Z"
    }
   },
   "outputs": [],
   "source": [
    "G.remove_node(2)\n",
    "G.remove_nodes_from(\"spam\")\n",
    "list(G.nodes)\n",
    "G.remove_edge(1, 3)"
   ]
  },
  {
   "cell_type": "markdown",
   "id": "4c43241b",
   "metadata": {},
   "source": [
    "# Using the graph constructors\n",
    "\n",
    "Graph objects do not have to be built up incrementally - data specifying\n",
    "graph structure can be passed directly to the constructors of the various\n",
    "graph classes.\n",
    "When creating a graph structure by instantiating one of the graph\n",
    "classes you can specify data in several formats."
   ]
  },
  {
   "cell_type": "code",
   "execution_count": 16,
   "id": "39f4185a",
   "metadata": {
    "execution": {
     "iopub.execute_input": "2021-07-08T17:38:28.842445Z",
     "iopub.status.busy": "2021-07-08T17:38:28.841483Z",
     "iopub.status.idle": "2021-07-08T17:38:29.082560Z",
     "shell.execute_reply": "2021-07-08T17:38:29.082103Z"
    }
   },
   "outputs": [],
   "source": [
    "G.add_edge(1, 2)\n",
    "H = nx.DiGraph(G)   # create a DiGraph using the connections from G\n",
    "list(H.edges())\n",
    "edgelist = [(0, 1), (1, 2), (2, 3)]\n",
    "H = nx.Graph(edgelist)"
   ]
  },
  {
   "cell_type": "markdown",
   "id": "ceb632eb",
   "metadata": {},
   "source": [
    "# What to use as nodes and edges\n",
    "\n",
    "You might notice that nodes and edges are not specified as NetworkX\n",
    "objects.  This leaves you free to use meaningful items as nodes and\n",
    "edges. The most common choices are numbers or strings, but a node can\n",
    "be any hashable object (except `None`), and an edge can be associated\n",
    "with any object `x` using `G.add_edge(n1, n2, object=x)`.\n",
    "\n",
    "As an example, `n1` and `n2` could be protein objects from the RCSB Protein\n",
    "Data Bank, and `x` could refer to an XML record of publications detailing\n",
    "experimental observations of their interaction.\n",
    "\n",
    "We have found this power quite useful, but its abuse\n",
    "can lead to surprising behavior unless one is familiar with Python.\n",
    "If in doubt, consider using `convert_node_labels_to_integers()` to obtain\n",
    "a more traditional graph with integer labels.\n",
    "\n",
    "# Accessing edges and neighbors\n",
    "\n",
    "In addition to the views `Graph.edges`, and `Graph.adj`,\n",
    "access to edges and neighbors is possible using subscript notation."
   ]
  },
  {
   "cell_type": "code",
   "execution_count": 17,
   "id": "e59c2fcb",
   "metadata": {
    "execution": {
     "iopub.execute_input": "2021-07-08T17:38:29.087340Z",
     "iopub.status.busy": "2021-07-08T17:38:29.086874Z",
     "iopub.status.idle": "2021-07-08T17:38:29.088797Z",
     "shell.execute_reply": "2021-07-08T17:38:29.089549Z"
    }
   },
   "outputs": [
    {
     "data": {
      "text/plain": [
       "{'color': 'yellow'}"
      ]
     },
     "execution_count": 17,
     "metadata": {},
     "output_type": "execute_result"
    }
   ],
   "source": [
    "G = nx.Graph([(1, 2, {\"color\": \"yellow\"})])\n",
    "G[1]  # same as G.adj[1]\n",
    "G[1][2]\n",
    "G.edges[1, 2]"
   ]
  },
  {
   "cell_type": "markdown",
   "id": "4d8ce616",
   "metadata": {},
   "source": [
    "You can get/set the attributes of an edge using subscript notation\n",
    "if the edge already exists."
   ]
  },
  {
   "cell_type": "code",
   "execution_count": 18,
   "id": "8808d724",
   "metadata": {
    "execution": {
     "iopub.execute_input": "2021-07-08T17:38:29.093908Z",
     "iopub.status.busy": "2021-07-08T17:38:29.093462Z",
     "iopub.status.idle": "2021-07-08T17:38:29.097763Z",
     "shell.execute_reply": "2021-07-08T17:38:29.097346Z"
    }
   },
   "outputs": [
    {
     "data": {
      "text/plain": [
       "{'color': 'red'}"
      ]
     },
     "execution_count": 18,
     "metadata": {},
     "output_type": "execute_result"
    }
   ],
   "source": [
    "G.add_edge(1, 3)\n",
    "G[1][3]['color'] = \"blue\"\n",
    "G.edges[1, 2]['color'] = \"red\"\n",
    "G.edges[1, 2]"
   ]
  },
  {
   "cell_type": "markdown",
   "id": "6cc164f3",
   "metadata": {},
   "source": [
    "Fast examination of all (node, adjacency) pairs is achieved using\n",
    "`G.adjacency()`, or `G.adj.items()`.\n",
    "Note that for undirected graphs, adjacency iteration sees each edge twice."
   ]
  },
  {
   "cell_type": "code",
   "execution_count": 19,
   "id": "5ee778fd",
   "metadata": {
    "execution": {
     "iopub.execute_input": "2021-07-08T17:38:29.102177Z",
     "iopub.status.busy": "2021-07-08T17:38:29.101733Z",
     "iopub.status.idle": "2021-07-08T17:38:29.105739Z",
     "shell.execute_reply": "2021-07-08T17:38:29.106109Z"
    }
   },
   "outputs": [
    {
     "name": "stdout",
     "output_type": "stream",
     "text": [
      "(1, 2, 0.125)\n",
      "(2, 1, 0.125)\n",
      "(3, 4, 0.375)\n",
      "(4, 3, 0.375)\n"
     ]
    }
   ],
   "source": [
    "FG = nx.Graph()\n",
    "FG.add_weighted_edges_from([(1, 2, 0.125), (1, 3, 0.75), (2, 4, 1.2), (3, 4, 0.375)])\n",
    "for n, nbrs in FG.adj.items():\n",
    "   for nbr, eattr in nbrs.items():\n",
    "       wt = eattr['weight']\n",
    "       if wt < 0.5: print(f\"({n}, {nbr}, {wt:.3})\")"
   ]
  },
  {
   "cell_type": "markdown",
   "id": "2902fc9c",
   "metadata": {},
   "source": [
    "Convenient access to all edges is achieved with the edges property."
   ]
  },
  {
   "cell_type": "code",
   "execution_count": 20,
   "id": "21073cfa",
   "metadata": {
    "execution": {
     "iopub.execute_input": "2021-07-08T17:38:29.109633Z",
     "iopub.status.busy": "2021-07-08T17:38:29.109187Z",
     "iopub.status.idle": "2021-07-08T17:38:29.112825Z",
     "shell.execute_reply": "2021-07-08T17:38:29.113195Z"
    }
   },
   "outputs": [
    {
     "name": "stdout",
     "output_type": "stream",
     "text": [
      "(1, 2, 0.125)\n",
      "(3, 4, 0.375)\n"
     ]
    }
   ],
   "source": [
    "for (u, v, wt) in FG.edges.data('weight'):\n",
    "    if wt < 0.5:\n",
    "        print(f\"({u}, {v}, {wt:.3})\")"
   ]
  },
  {
   "cell_type": "markdown",
   "id": "0f627669",
   "metadata": {},
   "source": [
    "# Adding attributes to graphs, nodes, and edges\n",
    "\n",
    "Attributes such as weights, labels, colors, or whatever Python object you like,\n",
    "can be attached to graphs, nodes, or edges.\n",
    "\n",
    "Each graph, node, and edge can hold key/value attribute pairs in an associated\n",
    "attribute dictionary (the keys must be hashable).  By default these are empty,\n",
    "but attributes can be added or changed using `add_edge`, `add_node` or direct\n",
    "manipulation of the attribute dictionaries named `G.graph`, `G.nodes`, and\n",
    "`G.edges` for a graph `G`.\n",
    "\n",
    "## Graph attributes\n",
    "\n",
    "Assign graph attributes when creating a new graph"
   ]
  },
  {
   "cell_type": "code",
   "execution_count": 21,
   "id": "f2cd62b4",
   "metadata": {
    "execution": {
     "iopub.execute_input": "2021-07-08T17:38:29.117168Z",
     "iopub.status.busy": "2021-07-08T17:38:29.116519Z",
     "iopub.status.idle": "2021-07-08T17:38:29.121591Z",
     "shell.execute_reply": "2021-07-08T17:38:29.120839Z"
    }
   },
   "outputs": [
    {
     "data": {
      "text/plain": [
       "{'day': 'Friday'}"
      ]
     },
     "execution_count": 21,
     "metadata": {},
     "output_type": "execute_result"
    }
   ],
   "source": [
    "G = nx.Graph(day=\"Friday\")\n",
    "G.graph"
   ]
  },
  {
   "cell_type": "markdown",
   "id": "49017df4",
   "metadata": {},
   "source": [
    "Or you can modify attributes later"
   ]
  },
  {
   "cell_type": "code",
   "execution_count": 22,
   "id": "d7551733",
   "metadata": {
    "execution": {
     "iopub.execute_input": "2021-07-08T17:38:29.125261Z",
     "iopub.status.busy": "2021-07-08T17:38:29.124820Z",
     "iopub.status.idle": "2021-07-08T17:38:29.129466Z",
     "shell.execute_reply": "2021-07-08T17:38:29.128876Z"
    }
   },
   "outputs": [
    {
     "data": {
      "text/plain": [
       "{'day': 'Monday'}"
      ]
     },
     "execution_count": 22,
     "metadata": {},
     "output_type": "execute_result"
    }
   ],
   "source": [
    "G.graph['day'] = \"Monday\"\n",
    "G.graph"
   ]
  },
  {
   "cell_type": "markdown",
   "id": "ffae4bca",
   "metadata": {},
   "source": [
    "# Node attributes\n",
    "\n",
    "Add node attributes using `add_node()`, `add_nodes_from()`, or `G.nodes`"
   ]
  },
  {
   "cell_type": "code",
   "execution_count": 23,
   "id": "24813d0b",
   "metadata": {
    "execution": {
     "iopub.execute_input": "2021-07-08T17:38:29.133676Z",
     "iopub.status.busy": "2021-07-08T17:38:29.133235Z",
     "iopub.status.idle": "2021-07-08T17:38:29.137752Z",
     "shell.execute_reply": "2021-07-08T17:38:29.138096Z"
    }
   },
   "outputs": [
    {
     "data": {
      "text/plain": [
       "NodeDataView({1: {'time': '5pm', 'room': 714}, 3: {'time': '2pm'}})"
      ]
     },
     "execution_count": 23,
     "metadata": {},
     "output_type": "execute_result"
    }
   ],
   "source": [
    "G.add_node(1, time='5pm')\n",
    "G.add_nodes_from([3], time='2pm')\n",
    "G.nodes[1]\n",
    "G.nodes[1]['room'] = 714\n",
    "G.nodes.data()"
   ]
  },
  {
   "cell_type": "markdown",
   "id": "a3c2306e",
   "metadata": {},
   "source": [
    "Note that adding a node to `G.nodes` does not add it to the graph, use\n",
    "`G.add_node()` to add new nodes. Similarly for edges.\n",
    "\n",
    "# Edge Attributes\n",
    "\n",
    "Add/change edge attributes using `add_edge()`, `add_edges_from()`,\n",
    "or subscript notation."
   ]
  },
  {
   "cell_type": "code",
   "execution_count": 24,
   "id": "8e099a66",
   "metadata": {
    "execution": {
     "iopub.execute_input": "2021-07-08T17:38:29.142307Z",
     "iopub.status.busy": "2021-07-08T17:38:29.141867Z",
     "iopub.status.idle": "2021-07-08T17:38:29.144817Z",
     "shell.execute_reply": "2021-07-08T17:38:29.145162Z"
    }
   },
   "outputs": [],
   "source": [
    "G.add_edge(1, 2, weight=4.7 )\n",
    "G.add_edges_from([(3, 4), (4, 5)], color='red')\n",
    "G.add_edges_from([(1, 2, {'color': 'blue'}), (2, 3, {'weight': 8})])\n",
    "G[1][2]['weight'] = 4.7\n",
    "G.edges[3, 4]['weight'] = 4.2"
   ]
  },
  {
   "cell_type": "markdown",
   "id": "53d432a7",
   "metadata": {},
   "source": [
    "The special attribute `weight` should be numeric as it is used by\n",
    "algorithms requiring weighted edges.\n",
    "\n",
    " Directed graphs\n",
    "\n",
    "The `DiGraph` class provides additional methods and properties specific\n",
    "to directed edges, e.g.,\n",
    "`DiGraph.out_edges`, `DiGraph.in_degree`,\n",
    "`DiGraph.predecessors()`, `DiGraph.successors()` etc.\n",
    "To allow algorithms to work with both classes easily, the directed versions of\n",
    "`neighbors()` is equivalent to `successors()` while `degree` reports\n",
    "the sum of `in_degree` and `out_degree` even though that may feel\n",
    "inconsistent at times."
   ]
  },
  {
   "cell_type": "code",
   "execution_count": 25,
   "id": "c822fa61",
   "metadata": {
    "execution": {
     "iopub.execute_input": "2021-07-08T17:38:29.150331Z",
     "iopub.status.busy": "2021-07-08T17:38:29.149865Z",
     "iopub.status.idle": "2021-07-08T17:38:29.152114Z",
     "shell.execute_reply": "2021-07-08T17:38:29.152483Z"
    }
   },
   "outputs": [
    {
     "data": {
      "text/plain": [
       "[2]"
      ]
     },
     "execution_count": 25,
     "metadata": {},
     "output_type": "execute_result"
    }
   ],
   "source": [
    "DG = nx.DiGraph()\n",
    "DG.add_weighted_edges_from([(1, 2, 0.5), (3, 1, 0.75)])\n",
    "DG.out_degree(1, weight='weight')\n",
    "DG.degree(1, weight='weight')\n",
    "list(DG.successors(1))\n",
    "list(DG.neighbors(1))"
   ]
  },
  {
   "cell_type": "markdown",
   "id": "ac24644e",
   "metadata": {},
   "source": [
    "Some algorithms work only for directed graphs and others are not well\n",
    "defined for directed graphs.  Indeed the tendency to lump directed\n",
    "and undirected graphs together is dangerous.  If you want to treat\n",
    "a directed graph as undirected for some measurement you should probably\n",
    "convert it using `Graph.to_undirected()` or with"
   ]
  },
  {
   "cell_type": "code",
   "execution_count": 26,
   "id": "9940df0c",
   "metadata": {
    "execution": {
     "iopub.execute_input": "2021-07-08T17:38:29.156288Z",
     "iopub.status.busy": "2021-07-08T17:38:29.155474Z",
     "iopub.status.idle": "2021-07-08T17:38:29.156960Z",
     "shell.execute_reply": "2021-07-08T17:38:29.157330Z"
    }
   },
   "outputs": [],
   "source": [
    "H = nx.Graph(G)  # create an undirected graph H from a directed graph G"
   ]
  },
  {
   "cell_type": "markdown",
   "id": "447e6475",
   "metadata": {},
   "source": [
    "# Multigraphs\n",
    "\n",
    "NetworkX provides classes for graphs which allow multiple edges\n",
    "between any pair of nodes.  The `MultiGraph` and\n",
    "`MultiDiGraph`\n",
    "classes allow you to add the same edge twice, possibly with different\n",
    "edge data.  This can be powerful for some applications, but many\n",
    "algorithms are not well defined on such graphs.\n",
    "Where results are well defined,\n",
    "e.g., `MultiGraph.degree()` we provide the function.  Otherwise you\n",
    "should convert to a standard graph in a way that makes the measurement\n",
    "well defined."
   ]
  },
  {
   "cell_type": "code",
   "execution_count": 27,
   "id": "310845a7",
   "metadata": {
    "execution": {
     "iopub.execute_input": "2021-07-08T17:38:29.163635Z",
     "iopub.status.busy": "2021-07-08T17:38:29.163170Z",
     "iopub.status.idle": "2021-07-08T17:38:29.165323Z",
     "shell.execute_reply": "2021-07-08T17:38:29.165687Z"
    }
   },
   "outputs": [
    {
     "data": {
      "text/plain": [
       "[1, 2, 3]"
      ]
     },
     "execution_count": 27,
     "metadata": {},
     "output_type": "execute_result"
    }
   ],
   "source": [
    "MG = nx.MultiGraph()\n",
    "MG.add_weighted_edges_from([(1, 2, 0.5), (1, 2, 0.75), (2, 3, 0.5)])\n",
    "dict(MG.degree(weight='weight'))\n",
    "GG = nx.Graph()\n",
    "for n, nbrs in MG.adjacency():\n",
    "   for nbr, edict in nbrs.items():\n",
    "       minvalue = min([d['weight'] for d in edict.values()])\n",
    "       GG.add_edge(n, nbr, weight = minvalue)\n",
    "\n",
    "nx.shortest_path(GG, 1, 3)"
   ]
  },
  {
   "cell_type": "markdown",
   "id": "de27af78",
   "metadata": {},
   "source": [
    "# Graph generators and graph operations\n",
    "\n",
    "In addition to constructing graphs node-by-node or edge-by-edge, they\n",
    "can also be generated by\n",
    "\n",
    "1. Applying classic graph operations, such as:\n",
    "\n",
    "1. Using a call to one of the classic small graphs, e.g.,\n",
    "\n",
    "1. Using a (constructive) generator for a classic graph, e.g.,\n",
    "\n",
    "like so:"
   ]
  },
  {
   "cell_type": "code",
   "execution_count": 28,
   "id": "08524374",
   "metadata": {
    "execution": {
     "iopub.execute_input": "2021-07-08T17:38:29.170719Z",
     "iopub.status.busy": "2021-07-08T17:38:29.169808Z",
     "iopub.status.idle": "2021-07-08T17:38:29.171381Z",
     "shell.execute_reply": "2021-07-08T17:38:29.171750Z"
    }
   },
   "outputs": [],
   "source": [
    "K_5 = nx.complete_graph(5)\n",
    "K_3_5 = nx.complete_bipartite_graph(3, 5)\n",
    "barbell = nx.barbell_graph(10, 10)\n",
    "lollipop = nx.lollipop_graph(10, 20)"
   ]
  },
  {
   "cell_type": "markdown",
   "id": "c8dc62f1",
   "metadata": {},
   "source": [
    "1. Using a stochastic graph generator, e.g,\n",
    "\n",
    "like so:"
   ]
  },
  {
   "cell_type": "code",
   "execution_count": 29,
   "id": "c67e39ac",
   "metadata": {
    "execution": {
     "iopub.execute_input": "2021-07-08T17:38:29.181541Z",
     "iopub.status.busy": "2021-07-08T17:38:29.178733Z",
     "iopub.status.idle": "2021-07-08T17:38:29.183457Z",
     "shell.execute_reply": "2021-07-08T17:38:29.183037Z"
    }
   },
   "outputs": [],
   "source": [
    "er = nx.erdos_renyi_graph(100, 0.15)\n",
    "ws = nx.watts_strogatz_graph(30, 3, 0.1)\n",
    "ba = nx.barabasi_albert_graph(100, 5)\n",
    "red = nx.random_lobster(100, 0.9, 0.9)"
   ]
  },
  {
   "cell_type": "markdown",
   "id": "a94157c6",
   "metadata": {},
   "source": [
    "1. Reading a graph stored in a file using common graph formats,\n",
    "   such as edge lists, adjacency lists, GML, GraphML, pickle, LEDA and others."
   ]
  },
  {
   "cell_type": "code",
   "execution_count": 30,
   "id": "293788c9",
   "metadata": {
    "execution": {
     "iopub.execute_input": "2021-07-08T17:38:29.186559Z",
     "iopub.status.busy": "2021-07-08T17:38:29.186100Z",
     "iopub.status.idle": "2021-07-08T17:38:29.304064Z",
     "shell.execute_reply": "2021-07-08T17:38:29.303585Z"
    }
   },
   "outputs": [],
   "source": [
    "nx.write_gml(red, \"path.to.file\")\n",
    "mygraph = nx.read_gml(\"path.to.file\")"
   ]
  },
  {
   "cell_type": "markdown",
   "id": "9f7f46ad",
   "metadata": {},
   "source": [
    "For details on graph formats see Reading and writing graphs\n",
    "and for graph generator functions see Graph generators\n",
    "\n",
    "# Analyzing graphs\n",
    "\n",
    "The structure of `G` can be analyzed using various graph-theoretic\n",
    "functions such as:"
   ]
  },
  {
   "cell_type": "code",
   "execution_count": 31,
   "id": "9a301d75",
   "metadata": {
    "execution": {
     "iopub.execute_input": "2021-07-08T17:38:29.310149Z",
     "iopub.status.busy": "2021-07-08T17:38:29.309675Z",
     "iopub.status.idle": "2021-07-08T17:38:29.312700Z",
     "shell.execute_reply": "2021-07-08T17:38:29.312255Z"
    }
   },
   "outputs": [
    {
     "data": {
      "text/plain": [
       "{1: 0, 2: 0, 3: 0, 'spam': 0}"
      ]
     },
     "execution_count": 31,
     "metadata": {},
     "output_type": "execute_result"
    }
   ],
   "source": [
    "G = nx.Graph()\n",
    "G.add_edges_from([(1, 2), (1, 3)])\n",
    "G.add_node(\"spam\")       # adds node \"spam\"\n",
    "list(nx.connected_components(G))\n",
    "sorted(d for n, d in G.degree())\n",
    "nx.clustering(G)"
   ]
  },
  {
   "cell_type": "markdown",
   "id": "05198b7f",
   "metadata": {},
   "source": [
    "Some functions with large output iterate over (node, value) 2-tuples.\n",
    "These are easily stored in a [dict](https://docs.python.org/3/library/stdtypes.html#dict) structure if you desire."
   ]
  },
  {
   "cell_type": "code",
   "execution_count": 32,
   "id": "9bf8d50f",
   "metadata": {
    "execution": {
     "iopub.execute_input": "2021-07-08T17:38:29.317017Z",
     "iopub.status.busy": "2021-07-08T17:38:29.316558Z",
     "iopub.status.idle": "2021-07-08T17:38:29.318746Z",
     "shell.execute_reply": "2021-07-08T17:38:29.319122Z"
    }
   },
   "outputs": [
    {
     "data": {
      "text/plain": [
       "{3: [3], 1: [3, 1], 2: [3, 1, 2]}"
      ]
     },
     "execution_count": 32,
     "metadata": {},
     "output_type": "execute_result"
    }
   ],
   "source": [
    "sp = dict(nx.all_pairs_shortest_path(G))\n",
    "sp[3]"
   ]
  },
  {
   "cell_type": "markdown",
   "id": "af797de8",
   "metadata": {},
   "source": [
    "See Algorithms for details on graph algorithms\n",
    "supported.\n",
    "\n",
    "# Drawing graphs\n",
    "\n",
    "NetworkX is not primarily a graph drawing package but basic drawing with\n",
    "Matplotlib as well as an interface to use the open source Graphviz software\n",
    "package are included.  These are part of the `networkx.drawing` module and will\n",
    "be imported if possible.\n",
    "\n",
    "First import Matplotlib’s plot interface (pylab works too)"
   ]
  },
  {
   "cell_type": "code",
   "execution_count": 33,
   "id": "de3a2459",
   "metadata": {
    "execution": {
     "iopub.execute_input": "2021-07-08T17:38:29.322371Z",
     "iopub.status.busy": "2021-07-08T17:38:29.321928Z",
     "iopub.status.idle": "2021-07-08T17:38:29.493530Z",
     "shell.execute_reply": "2021-07-08T17:38:29.493042Z"
    }
   },
   "outputs": [],
   "source": [
    "import matplotlib.pyplot as plt"
   ]
  },
  {
   "cell_type": "markdown",
   "id": "fdd4cc14",
   "metadata": {},
   "source": [
    "To test if the import of `networkx.drawing` was successful draw `G` using one of"
   ]
  },
  {
   "cell_type": "code",
   "execution_count": 34,
   "id": "5e9ae25f",
   "metadata": {
    "execution": {
     "iopub.execute_input": "2021-07-08T17:38:29.512283Z",
     "iopub.status.busy": "2021-07-08T17:38:29.511823Z",
     "iopub.status.idle": "2021-07-08T17:38:29.678416Z",
     "shell.execute_reply": "2021-07-08T17:38:29.678870Z"
    }
   },
   "outputs": [
    {
     "data": {
      "image/png": "[encoded data removed]",
      "text/plain": [
       "<Figure size 432x288 with 2 Axes>"
      ]
     },
     "metadata": {},
     "output_type": "display_data"
    }
   ],
   "source": [
    "G = nx.petersen_graph()\n",
    "subax1 = plt.subplot(121)\n",
    "nx.draw(G, with_labels=True, font_weight='bold')\n",
    "subax2 = plt.subplot(122)\n",
    "nx.draw_shell(G, nlist=[range(5, 10), range(5)], with_labels=True, font_weight='bold')"
   ]
  },
  {
   "cell_type": "markdown",
   "id": "97bf9a04",
   "metadata": {},
   "source": [
    "when drawing to an interactive display.  Note that you may need to issue a\n",
    "Matplotlib"
   ]
  },
  {
   "cell_type": "code",
   "execution_count": 35,
   "id": "fc99e96f",
   "metadata": {
    "execution": {
     "iopub.execute_input": "2021-07-08T17:38:29.682745Z",
     "iopub.status.busy": "2021-07-08T17:38:29.681927Z",
     "iopub.status.idle": "2021-07-08T17:38:29.683832Z",
     "shell.execute_reply": "2021-07-08T17:38:29.683459Z"
    }
   },
   "outputs": [],
   "source": [
    "plt.show()"
   ]
  },
  {
   "cell_type": "markdown",
   "id": "6cbcf400",
   "metadata": {},
   "source": [
    "command if you are not using matplotlib in interactive mode (see\n",
    "[this Matplotlib FAQ](https://matplotlib.org/stable/faq/installing_faq.html))."
   ]
  },
  {
   "cell_type": "code",
   "execution_count": 36,
   "id": "222133d2",
   "metadata": {
    "execution": {
     "iopub.execute_input": "2021-07-08T17:38:29.727009Z",
     "iopub.status.busy": "2021-07-08T17:38:29.703302Z",
     "iopub.status.idle": "2021-07-08T17:38:29.867192Z",
     "shell.execute_reply": "2021-07-08T17:38:29.866774Z"
    }
   },
   "outputs": [
    {
     "data": {
      "image/png": "[encoded data removed]",
      "text/plain": [
       "<Figure size 432x288 with 4 Axes>"
      ]
     },
     "metadata": {},
     "output_type": "display_data"
    }
   ],
   "source": [
    "options = {\n",
    "    'node_color': 'black',\n",
    "    'node_size': 100,\n",
    "    'width': 3,\n",
    "}\n",
    "subax1 = plt.subplot(221)\n",
    "nx.draw_random(G, **options)\n",
    "subax2 = plt.subplot(222)\n",
    "nx.draw_circular(G, **options)\n",
    "subax3 = plt.subplot(223)\n",
    "nx.draw_spectral(G, **options)\n",
    "subax4 = plt.subplot(224)\n",
    "nx.draw_shell(G, nlist=[range(5,10), range(5)], **options)"
   ]
  },
  {
   "cell_type": "markdown",
   "id": "76fe8fbc",
   "metadata": {},
   "source": [
    "You can find additional options via `draw_networkx()` and\n",
    "layouts via `layout`.\n",
    "You can use multiple shells with `draw_shell()`."
   ]
  },
  {
   "cell_type": "code",
   "execution_count": 37,
   "id": "e55bcaa5",
   "metadata": {
    "execution": {
     "iopub.execute_input": "2021-07-08T17:38:29.890802Z",
     "iopub.status.busy": "2021-07-08T17:38:29.890156Z",
     "iopub.status.idle": "2021-07-08T17:38:29.944749Z",
     "shell.execute_reply": "2021-07-08T17:38:29.945126Z"
    }
   },
   "outputs": [
    {
     "data": {
      "image/png": "[encoded data removed]",
      "text/plain": [
       "<Figure size 432x288 with 1 Axes>"
      ]
     },
     "metadata": {},
     "output_type": "display_data"
    }
   ],
   "source": [
    "G = nx.dodecahedral_graph()\n",
    "shells = [[2, 3, 4, 5, 6], [8, 1, 0, 19, 18, 17, 16, 15, 14, 7], [9, 10, 11, 12, 13]]\n",
    "nx.draw_shell(G, nlist=shells, **options)"
   ]
  },
  {
   "cell_type": "markdown",
   "id": "d37f33fd",
   "metadata": {},
   "source": [
    "To save drawings to a file, use, for example"
   ]
  },
  {
   "cell_type": "code",
   "execution_count": 38,
   "id": "937d1150",
   "metadata": {
    "execution": {
     "iopub.execute_input": "2021-07-08T17:38:29.963645Z",
     "iopub.status.busy": "2021-07-08T17:38:29.947298Z",
     "iopub.status.idle": "2021-07-08T17:38:30.050918Z",
     "shell.execute_reply": "2021-07-08T17:38:30.050477Z"
    }
   },
   "outputs": [
    {
     "data": {
      "image/png": "[encoded data removed]",
      "text/plain": [
       "<Figure size 432x288 with 1 Axes>"
      ]
     },
     "metadata": {},
     "output_type": "display_data"
    }
   ],
   "source": [
    "nx.draw(G)\n",
    "plt.savefig(\"path.png\")"
   ]
  },
  {
   "cell_type": "markdown",
   "id": "3f8fe731",
   "metadata": {},
   "source": [
    "writes to the file `path.png` in the local directory. If Graphviz and\n",
    "PyGraphviz or pydot, are available on your system, you can also use\n",
    "`nx_agraph.graphviz_layout(G)` or `nx_pydot.graphviz_layout(G)` to get the\n",
    "node positions, or write the graph in dot format for further processing."
   ]
  },
  {
   "cell_type": "code",
   "execution_count": 39,
   "id": "c34aa50f",
   "metadata": {
    "execution": {
     "iopub.execute_input": "2021-07-08T17:38:30.054655Z",
     "iopub.status.busy": "2021-07-08T17:38:30.054181Z",
     "iopub.status.idle": "2021-07-08T17:38:30.159884Z",
     "shell.execute_reply": "2021-07-08T17:38:30.160291Z"
    }
   },
   "outputs": [
    {
     "data": {
      "image/png": "[encoded data removed]",
      "text/plain": [
       "<Figure size 432x288 with 1 Axes>"
      ]
     },
     "metadata": {},
     "output_type": "display_data"
    }
   ],
   "source": [
    "from networkx.drawing.nx_pydot import write_dot\n",
    "pos = nx.nx_agraph.graphviz_layout(G)\n",
    "nx.draw(G, pos=pos)\n",
    "write_dot(G, 'file.dot')"
   ]
  },
  {
   "cell_type": "markdown",
   "id": "ff277c5b",
   "metadata": {},
   "source": [
    "See Drawing for additional details."
   ]
  }
 ],
 "metadata": {
  "language_info": {
   "codemirror_mode": {
    "name": "ipython",
    "version": 3
   },
   "file_extension": ".py",
   "mimetype": "text/x-python",
   "name": "python",
   "nbconvert_exporter": "python",
   "pygments_lexer": "ipython3",
   "version": "3.8.10"
  }
 },
 "nbformat": 4,
 "nbformat_minor": 5
}
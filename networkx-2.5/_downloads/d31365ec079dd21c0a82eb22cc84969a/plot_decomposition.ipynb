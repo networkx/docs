{
  "cells": [
    {
      "cell_type": "code",
      "execution_count": null,
      "metadata": {
        "collapsed": false
      },
      "outputs": [],
      "source": [
        "%matplotlib inline"
      ]
    },
    {
      "cell_type": "markdown",
      "metadata": {},
      "source": [
        "\n# Decomposition\n\n\nExample of creating a junction tree from a directed graph.\n"
      ]
    },
    {
      "cell_type": "code",
      "execution_count": null,
      "metadata": {
        "collapsed": false
      },
      "outputs": [],
      "source": [
        "import networkx as nx\nfrom networkx.algorithms import moral\nfrom networkx.algorithms.tree.decomposition import junction_tree\nfrom networkx.drawing.nx_agraph import graphviz_layout as layout\nimport matplotlib.pyplot as plt\n\nB = nx.DiGraph()\nB.add_nodes_from([\"A\", \"B\", \"C\", \"D\", \"E\", \"F\"])\nB.add_edges_from(\n    [(\"A\", \"B\"), (\"A\", \"C\"), (\"B\", \"D\"), (\"B\", \"F\"), (\"C\", \"E\"), (\"E\", \"F\")]\n)\n\noptions = {\"with_labels\": True, \"node_color\": \"white\", \"edgecolors\": \"blue\"}\n\nbayes_pos = layout(B, prog=\"neato\")\nax1 = plt.subplot(1, 3, 1)\nplt.title(\"Bayesian Network\")\nnx.draw_networkx(B, pos=bayes_pos, **options)\n\nmg = moral.moral_graph(B)\nplt.subplot(1, 3, 2, sharex=ax1, sharey=ax1)\nplt.title(\"Moralized Graph\")\nnx.draw_networkx(mg, pos=bayes_pos, **options)\n\njt = junction_tree(B)\nplt.subplot(1, 3, 3)\nplt.title(\"Junction Tree\")\nnsize = [2000 * len(n) for n in list(jt.nodes())]\nnx.draw_networkx(jt, pos=layout(jt, prog=\"neato\"), node_size=nsize, **options)\n\nplt.tight_layout()\nplt.show()"
      ]
    }
  ],
  "metadata": {
    "kernelspec": {
      "display_name": "Python 3",
      "language": "python",
      "name": "python3"
    },
    "language_info": {
      "codemirror_mode": {
        "name": "ipython",
        "version": 3
      },
      "file_extension": ".py",
      "mimetype": "text/x-python",
      "name": "python",
      "nbconvert_exporter": "python",
      "pygments_lexer": "ipython3",
      "version": "3.7.1"
    }
  },
  "nbformat": 4,
  "nbformat_minor": 0
}
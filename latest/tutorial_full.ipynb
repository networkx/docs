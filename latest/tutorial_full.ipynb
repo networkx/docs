{
 "cells": [
  {
   "cell_type": "markdown",
   "id": "15c7be7d",
   "metadata": {},
   "source": [
    "## Tutorial\n",
    "\n",
    "This guide can help you start working with NetworkX.\n",
    "\n",
    "### Creating a graph\n",
    "\n",
    "Create an empty graph with no nodes and no edges."
   ]
  },
  {
   "cell_type": "code",
   "execution_count": 1,
   "id": "08f1bf99",
   "metadata": {
    "execution": {
     "iopub.execute_input": "2021-07-09T18:16:12.707427Z",
     "iopub.status.busy": "2021-07-09T18:16:12.706618Z",
     "iopub.status.idle": "2021-07-09T18:16:12.778201Z",
     "shell.execute_reply": "2021-07-09T18:16:12.777362Z"
    }
   },
   "outputs": [],
   "source": [
    "import networkx as nx\n",
    "G = nx.Graph()"
   ]
  },
  {
   "cell_type": "markdown",
   "id": "d698d8af",
   "metadata": {},
   "source": [
    "By definition, a `Graph` is a collection of nodes (vertices) along with\n",
    "identified pairs of nodes (called edges, links, etc).  In NetworkX, nodes can\n",
    "be any [hashable](https://docs.python.org/3/glossary.html#term-hashable) object e.g., a text string, an image, an XML object,\n",
    "another Graph, a customized node object, etc.\n",
    "\n",
    "# Nodes\n",
    "\n",
    "The graph `G` can be grown in several ways.  NetworkX includes many graph\n",
    "generator functions and facilities to read and write graphs in many formats.\n",
    "To get started though we’ll look at simple manipulations.  You can add one node\n",
    "at a time,"
   ]
  },
  {
   "cell_type": "code",
   "execution_count": 2,
   "id": "a4c75e63",
   "metadata": {
    "execution": {
     "iopub.execute_input": "2021-07-09T18:16:12.782711Z",
     "iopub.status.busy": "2021-07-09T18:16:12.781611Z",
     "iopub.status.idle": "2021-07-09T18:16:12.783277Z",
     "shell.execute_reply": "2021-07-09T18:16:12.783679Z"
    }
   },
   "outputs": [],
   "source": [
    "G.add_node(1)"
   ]
  },
  {
   "cell_type": "markdown",
   "id": "8d70387e",
   "metadata": {},
   "source": [
    "or add nodes from any [iterable](https://docs.python.org/3/glossary.html#term-iterable) container, such as a list"
   ]
  },
  {
   "cell_type": "code",
   "execution_count": 3,
   "id": "05a10f1f",
   "metadata": {
    "execution": {
     "iopub.execute_input": "2021-07-09T18:16:12.787312Z",
     "iopub.status.busy": "2021-07-09T18:16:12.786734Z",
     "iopub.status.idle": "2021-07-09T18:16:12.788972Z",
     "shell.execute_reply": "2021-07-09T18:16:12.788558Z"
    }
   },
   "outputs": [],
   "source": [
    "G.add_nodes_from([2, 3])"
   ]
  },
  {
   "cell_type": "markdown",
   "id": "06e27123",
   "metadata": {},
   "source": [
    "You can also add nodes along with node\n",
    "attributes if your container yields 2-tuples of the form\n",
    "`(node, node_attribute_dict)`:\n",
    "\n",
    "```\n",
    ">>> G.add_nodes_from([\n",
    "...     (4, {\"color\": \"red\"}),\n",
    "...     (5, {\"color\": \"green\"}),\n",
    "... ])\n",
    "```\n",
    "\n",
    "Node attributes are discussed further below.\n",
    "\n",
    "Nodes from one graph can be incorporated into another:"
   ]
  },
  {
   "cell_type": "code",
   "execution_count": 4,
   "id": "79649557",
   "metadata": {
    "execution": {
     "iopub.execute_input": "2021-07-09T18:16:12.793856Z",
     "iopub.status.busy": "2021-07-09T18:16:12.792711Z",
     "iopub.status.idle": "2021-07-09T18:16:12.794400Z",
     "shell.execute_reply": "2021-07-09T18:16:12.794830Z"
    }
   },
   "outputs": [],
   "source": [
    "H = nx.path_graph(10)\n",
    "G.add_nodes_from(H)"
   ]
  },
  {
   "cell_type": "markdown",
   "id": "4ba4cd85",
   "metadata": {},
   "source": [
    "`G` now contains the nodes of `H` as nodes of `G`.\n",
    "In contrast, you could use the graph `H` as a node in `G`."
   ]
  },
  {
   "cell_type": "code",
   "execution_count": 5,
   "id": "fc800f99",
   "metadata": {
    "execution": {
     "iopub.execute_input": "2021-07-09T18:16:12.798971Z",
     "iopub.status.busy": "2021-07-09T18:16:12.797851Z",
     "iopub.status.idle": "2021-07-09T18:16:12.799577Z",
     "shell.execute_reply": "2021-07-09T18:16:12.800046Z"
    }
   },
   "outputs": [],
   "source": [
    "G.add_node(H)"
   ]
  },
  {
   "cell_type": "markdown",
   "id": "2df1abc1",
   "metadata": {},
   "source": [
    "The graph `G` now contains `H` as a node.  This flexibility is very powerful as\n",
    "it allows graphs of graphs, graphs of files, graphs of functions and much more.\n",
    "It is worth thinking about how to structure your application so that the nodes\n",
    "are useful entities.  Of course you can always use a unique identifier in `G`\n",
    "and have a separate dictionary keyed by identifier to the node information if\n",
    "you prefer.\n",
    "\n",
    "# Edges\n",
    "\n",
    "`G` can also be grown by adding one edge at a time,"
   ]
  },
  {
   "cell_type": "code",
   "execution_count": 6,
   "id": "0ecdf883",
   "metadata": {
    "execution": {
     "iopub.execute_input": "2021-07-09T18:16:12.804654Z",
     "iopub.status.busy": "2021-07-09T18:16:12.803463Z",
     "iopub.status.idle": "2021-07-09T18:16:12.805250Z",
     "shell.execute_reply": "2021-07-09T18:16:12.805681Z"
    }
   },
   "outputs": [],
   "source": [
    "G.add_edge(1, 2)\n",
    "e = (2, 3)\n",
    "G.add_edge(*e)  # unpack edge tuple*"
   ]
  },
  {
   "cell_type": "markdown",
   "id": "1459db93",
   "metadata": {},
   "source": [
    "by adding a list of edges,"
   ]
  },
  {
   "cell_type": "code",
   "execution_count": 7,
   "id": "acb9da44",
   "metadata": {
    "execution": {
     "iopub.execute_input": "2021-07-09T18:16:12.810047Z",
     "iopub.status.busy": "2021-07-09T18:16:12.808859Z",
     "iopub.status.idle": "2021-07-09T18:16:12.810879Z",
     "shell.execute_reply": "2021-07-09T18:16:12.811450Z"
    }
   },
   "outputs": [],
   "source": [
    "G.add_edges_from([(1, 2), (1, 3)])"
   ]
  },
  {
   "cell_type": "markdown",
   "id": "e34a094a",
   "metadata": {},
   "source": [
    "or by adding any ebunch of edges.  An *ebunch* is any iterable\n",
    "container of edge-tuples.  An edge-tuple can be a 2-tuple of nodes or a 3-tuple\n",
    "with 2 nodes followed by an edge attribute dictionary, e.g.,\n",
    "`(2, 3, {'weight': 3.1415})`.  Edge attributes are discussed further\n",
    "below."
   ]
  },
  {
   "cell_type": "code",
   "execution_count": 8,
   "id": "3fdc0d05",
   "metadata": {
    "execution": {
     "iopub.execute_input": "2021-07-09T18:16:12.816041Z",
     "iopub.status.busy": "2021-07-09T18:16:12.814731Z",
     "iopub.status.idle": "2021-07-09T18:16:12.816622Z",
     "shell.execute_reply": "2021-07-09T18:16:12.817022Z"
    }
   },
   "outputs": [],
   "source": [
    "G.add_edges_from(H.edges)"
   ]
  },
  {
   "cell_type": "markdown",
   "id": "eacae33f",
   "metadata": {},
   "source": [
    "There are no complaints when adding existing nodes or edges. For example,\n",
    "after removing all nodes and edges,"
   ]
  },
  {
   "cell_type": "code",
   "execution_count": 9,
   "id": "fc61ca39",
   "metadata": {
    "execution": {
     "iopub.execute_input": "2021-07-09T18:16:12.821363Z",
     "iopub.status.busy": "2021-07-09T18:16:12.820190Z",
     "iopub.status.idle": "2021-07-09T18:16:12.821932Z",
     "shell.execute_reply": "2021-07-09T18:16:12.822327Z"
    }
   },
   "outputs": [],
   "source": [
    "G.clear()"
   ]
  },
  {
   "cell_type": "markdown",
   "id": "474ad97b",
   "metadata": {},
   "source": [
    "we add new nodes/edges and NetworkX quietly ignores any that are\n",
    "already present."
   ]
  },
  {
   "cell_type": "code",
   "execution_count": 10,
   "id": "11a101ea",
   "metadata": {
    "execution": {
     "iopub.execute_input": "2021-07-09T18:16:12.826422Z",
     "iopub.status.busy": "2021-07-09T18:16:12.824368Z",
     "iopub.status.idle": "2021-07-09T18:16:12.828445Z",
     "shell.execute_reply": "2021-07-09T18:16:12.828005Z"
    }
   },
   "outputs": [],
   "source": [
    "G.add_edges_from([(1, 2), (1, 3)])\n",
    "G.add_node(1)\n",
    "G.add_edge(1, 2)\n",
    "G.add_node(\"spam\")        # adds node \"spam\"\n",
    "G.add_nodes_from(\"spam\")  # adds 4 nodes: 's', 'p', 'a', 'm'\n",
    "G.add_edge(3, 'm')"
   ]
  },
  {
   "cell_type": "markdown",
   "id": "b154f28b",
   "metadata": {},
   "source": [
    "At this stage the graph `G` consists of 8 nodes and 3 edges, as can be seen by:"
   ]
  },
  {
   "cell_type": "code",
   "execution_count": 11,
   "id": "99d6313c",
   "metadata": {
    "execution": {
     "iopub.execute_input": "2021-07-09T18:16:12.837260Z",
     "iopub.status.busy": "2021-07-09T18:16:12.835430Z",
     "iopub.status.idle": "2021-07-09T18:16:12.839684Z",
     "shell.execute_reply": "2021-07-09T18:16:12.840115Z"
    }
   },
   "outputs": [
    {
     "data": {
      "text/plain": [
       "3"
      ]
     },
     "execution_count": 11,
     "metadata": {},
     "output_type": "execute_result"
    }
   ],
   "source": [
    "G.number_of_nodes()\n",
    "G.number_of_edges()"
   ]
  },
  {
   "cell_type": "code",
   "execution_count": 12,
   "id": "32bece7a",
   "metadata": {
    "execution": {
     "iopub.execute_input": "2021-07-09T18:16:12.846039Z",
     "iopub.status.busy": "2021-07-09T18:16:12.844650Z",
     "iopub.status.idle": "2021-07-09T18:16:12.846645Z",
     "shell.execute_reply": "2021-07-09T18:16:12.847074Z"
    }
   },
   "outputs": [],
   "source": [
    "DG = nx.DiGraph()\n",
    "DG.add_edge(2, 1)   # adds the nodes in order 2, 1\n",
    "DG.add_edge(1, 3)\n",
    "DG.add_edge(2, 4)\n",
    "DG.add_edge(1, 2)\n",
    "assert list(DG.successors(2)) == [1, 4]\n",
    "assert list(DG.edges) == [(2, 1), (2, 4), (1, 3), (1, 2)]"
   ]
  },
  {
   "cell_type": "markdown",
   "id": "e639fd01",
   "metadata": {},
   "source": [
    "# Examining elements of a graph\n",
    "\n",
    "We can examine the nodes and edges. Four basic graph properties facilitate\n",
    "reporting: `G.nodes`, `G.edges`, `G.adj` and `G.degree`.  These\n",
    "are set-like views of the nodes, edges, neighbors (adjacencies), and degrees\n",
    "of nodes in a graph. They offer a continually updated read-only view into\n",
    "the graph structure. They are also dict-like in that you can look up node\n",
    "and edge data attributes via the views and iterate with data attributes\n",
    "using methods `.items()`, `.data('span')`.\n",
    "If you want a specific container type instead of a view, you can specify one.\n",
    "Here we use lists, though sets, dicts, tuples and other containers may be\n",
    "better in other contexts."
   ]
  },
  {
   "cell_type": "code",
   "execution_count": 13,
   "id": "42f487ad",
   "metadata": {
    "execution": {
     "iopub.execute_input": "2021-07-09T18:16:12.851722Z",
     "iopub.status.busy": "2021-07-09T18:16:12.849096Z",
     "iopub.status.idle": "2021-07-09T18:16:12.853669Z",
     "shell.execute_reply": "2021-07-09T18:16:12.854089Z"
    }
   },
   "outputs": [
    {
     "data": {
      "text/plain": [
       "2"
      ]
     },
     "execution_count": 13,
     "metadata": {},
     "output_type": "execute_result"
    }
   ],
   "source": [
    "list(G.nodes)\n",
    "list(G.edges)\n",
    "list(G.adj[1])  # or list(G.neighbors(1))\n",
    "G.degree[1]  # the number of edges incident to 1"
   ]
  },
  {
   "cell_type": "markdown",
   "id": "83b39beb",
   "metadata": {},
   "source": [
    "One can specify to report the edges and degree from a subset of all nodes\n",
    "using an nbunch. An *nbunch* is any of: `None` (meaning all nodes),\n",
    "a node, or an iterable container of nodes that is not itself a node in the\n",
    "graph."
   ]
  },
  {
   "cell_type": "code",
   "execution_count": 14,
   "id": "bd93b711",
   "metadata": {
    "execution": {
     "iopub.execute_input": "2021-07-09T18:16:12.859127Z",
     "iopub.status.busy": "2021-07-09T18:16:12.858213Z",
     "iopub.status.idle": "2021-07-09T18:16:12.860898Z",
     "shell.execute_reply": "2021-07-09T18:16:12.861296Z"
    }
   },
   "outputs": [
    {
     "data": {
      "text/plain": [
       "DegreeView({2: 1, 3: 2})"
      ]
     },
     "execution_count": 14,
     "metadata": {},
     "output_type": "execute_result"
    }
   ],
   "source": [
    "G.edges([2, 'm'])\n",
    "G.degree([2, 3])"
   ]
  },
  {
   "cell_type": "markdown",
   "id": "ce57419b",
   "metadata": {},
   "source": [
    "# Removing elements from a graph\n",
    "\n",
    "One can remove nodes and edges from the graph in a similar fashion to adding.\n",
    "Use methods\n",
    "`Graph.remove_node()`,\n",
    "`Graph.remove_nodes_from()`,\n",
    "`Graph.remove_edge()`\n",
    "and\n",
    "`Graph.remove_edges_from()`, e.g."
   ]
  },
  {
   "cell_type": "code",
   "execution_count": 15,
   "id": "8004a55d",
   "metadata": {
    "execution": {
     "iopub.execute_input": "2021-07-09T18:16:12.865202Z",
     "iopub.status.busy": "2021-07-09T18:16:12.864686Z",
     "iopub.status.idle": "2021-07-09T18:16:12.866826Z",
     "shell.execute_reply": "2021-07-09T18:16:12.866388Z"
    }
   },
   "outputs": [],
   "source": [
    "G.remove_node(2)\n",
    "G.remove_nodes_from(\"spam\")\n",
    "list(G.nodes)\n",
    "G.remove_edge(1, 3)"
   ]
  },
  {
   "cell_type": "markdown",
   "id": "4744f0b7",
   "metadata": {},
   "source": [
    "# Using the graph constructors\n",
    "\n",
    "Graph objects do not have to be built up incrementally - data specifying\n",
    "graph structure can be passed directly to the constructors of the various\n",
    "graph classes.\n",
    "When creating a graph structure by instantiating one of the graph\n",
    "classes you can specify data in several formats."
   ]
  },
  {
   "cell_type": "code",
   "execution_count": 16,
   "id": "2bdf2237",
   "metadata": {
    "execution": {
     "iopub.execute_input": "2021-07-09T18:16:12.871614Z",
     "iopub.status.busy": "2021-07-09T18:16:12.871066Z",
     "iopub.status.idle": "2021-07-09T18:16:13.140743Z",
     "shell.execute_reply": "2021-07-09T18:16:13.139653Z"
    }
   },
   "outputs": [],
   "source": [
    "G.add_edge(1, 2)\n",
    "H = nx.DiGraph(G)   # create a DiGraph using the connections from G\n",
    "list(H.edges())\n",
    "edgelist = [(0, 1), (1, 2), (2, 3)]\n",
    "H = nx.Graph(edgelist)"
   ]
  },
  {
   "cell_type": "markdown",
   "id": "3d03d53f",
   "metadata": {},
   "source": [
    "# What to use as nodes and edges\n",
    "\n",
    "You might notice that nodes and edges are not specified as NetworkX\n",
    "objects.  This leaves you free to use meaningful items as nodes and\n",
    "edges. The most common choices are numbers or strings, but a node can\n",
    "be any hashable object (except `None`), and an edge can be associated\n",
    "with any object `x` using `G.add_edge(n1, n2, object=x)`.\n",
    "\n",
    "As an example, `n1` and `n2` could be protein objects from the RCSB Protein\n",
    "Data Bank, and `x` could refer to an XML record of publications detailing\n",
    "experimental observations of their interaction.\n",
    "\n",
    "We have found this power quite useful, but its abuse\n",
    "can lead to surprising behavior unless one is familiar with Python.\n",
    "If in doubt, consider using `convert_node_labels_to_integers()` to obtain\n",
    "a more traditional graph with integer labels.\n",
    "\n",
    "# Accessing edges and neighbors\n",
    "\n",
    "In addition to the views `Graph.edges`, and `Graph.adj`,\n",
    "access to edges and neighbors is possible using subscript notation."
   ]
  },
  {
   "cell_type": "code",
   "execution_count": 17,
   "id": "d29f0bd6",
   "metadata": {
    "execution": {
     "iopub.execute_input": "2021-07-09T18:16:13.146127Z",
     "iopub.status.busy": "2021-07-09T18:16:13.145638Z",
     "iopub.status.idle": "2021-07-09T18:16:13.150634Z",
     "shell.execute_reply": "2021-07-09T18:16:13.150153Z"
    }
   },
   "outputs": [
    {
     "data": {
      "text/plain": [
       "{'color': 'yellow'}"
      ]
     },
     "execution_count": 17,
     "metadata": {},
     "output_type": "execute_result"
    }
   ],
   "source": [
    "G = nx.Graph([(1, 2, {\"color\": \"yellow\"})])\n",
    "G[1]  # same as G.adj[1]\n",
    "G[1][2]\n",
    "G.edges[1, 2]"
   ]
  },
  {
   "cell_type": "markdown",
   "id": "5ca2897d",
   "metadata": {},
   "source": [
    "You can get/set the attributes of an edge using subscript notation\n",
    "if the edge already exists."
   ]
  },
  {
   "cell_type": "code",
   "execution_count": 18,
   "id": "f695feaf",
   "metadata": {
    "execution": {
     "iopub.execute_input": "2021-07-09T18:16:13.155235Z",
     "iopub.status.busy": "2021-07-09T18:16:13.154752Z",
     "iopub.status.idle": "2021-07-09T18:16:13.159294Z",
     "shell.execute_reply": "2021-07-09T18:16:13.158882Z"
    }
   },
   "outputs": [
    {
     "data": {
      "text/plain": [
       "{'color': 'red'}"
      ]
     },
     "execution_count": 18,
     "metadata": {},
     "output_type": "execute_result"
    }
   ],
   "source": [
    "G.add_edge(1, 3)\n",
    "G[1][3]['color'] = \"blue\"\n",
    "G.edges[1, 2]['color'] = \"red\"\n",
    "G.edges[1, 2]"
   ]
  },
  {
   "cell_type": "markdown",
   "id": "bc6dffc0",
   "metadata": {},
   "source": [
    "Fast examination of all (node, adjacency) pairs is achieved using\n",
    "`G.adjacency()`, or `G.adj.items()`.\n",
    "Note that for undirected graphs, adjacency iteration sees each edge twice."
   ]
  },
  {
   "cell_type": "code",
   "execution_count": 19,
   "id": "b2aa5fd6",
   "metadata": {
    "execution": {
     "iopub.execute_input": "2021-07-09T18:16:13.164862Z",
     "iopub.status.busy": "2021-07-09T18:16:13.163953Z",
     "iopub.status.idle": "2021-07-09T18:16:13.168457Z",
     "shell.execute_reply": "2021-07-09T18:16:13.167686Z"
    }
   },
   "outputs": [
    {
     "name": "stdout",
     "output_type": "stream",
     "text": [
      "(1, 2, 0.125)\n",
      "(2, 1, 0.125)\n",
      "(3, 4, 0.375)\n",
      "(4, 3, 0.375)\n"
     ]
    }
   ],
   "source": [
    "FG = nx.Graph()\n",
    "FG.add_weighted_edges_from([(1, 2, 0.125), (1, 3, 0.75), (2, 4, 1.2), (3, 4, 0.375)])\n",
    "for n, nbrs in FG.adj.items():\n",
    "   for nbr, eattr in nbrs.items():\n",
    "       wt = eattr['weight']\n",
    "       if wt < 0.5: print(f\"({n}, {nbr}, {wt:.3})\")"
   ]
  },
  {
   "cell_type": "markdown",
   "id": "1639d4ba",
   "metadata": {},
   "source": [
    "Convenient access to all edges is achieved with the edges property."
   ]
  },
  {
   "cell_type": "code",
   "execution_count": 20,
   "id": "03532ac9",
   "metadata": {
    "execution": {
     "iopub.execute_input": "2021-07-09T18:16:13.172477Z",
     "iopub.status.busy": "2021-07-09T18:16:13.171990Z",
     "iopub.status.idle": "2021-07-09T18:16:13.175950Z",
     "shell.execute_reply": "2021-07-09T18:16:13.175496Z"
    }
   },
   "outputs": [
    {
     "name": "stdout",
     "output_type": "stream",
     "text": [
      "(1, 2, 0.125)\n",
      "(3, 4, 0.375)\n"
     ]
    }
   ],
   "source": [
    "for (u, v, wt) in FG.edges.data('weight'):\n",
    "    if wt < 0.5:\n",
    "        print(f\"({u}, {v}, {wt:.3})\")"
   ]
  },
  {
   "cell_type": "markdown",
   "id": "c2daec64",
   "metadata": {},
   "source": [
    "# Adding attributes to graphs, nodes, and edges\n",
    "\n",
    "Attributes such as weights, labels, colors, or whatever Python object you like,\n",
    "can be attached to graphs, nodes, or edges.\n",
    "\n",
    "Each graph, node, and edge can hold key/value attribute pairs in an associated\n",
    "attribute dictionary (the keys must be hashable).  By default these are empty,\n",
    "but attributes can be added or changed using `add_edge`, `add_node` or direct\n",
    "manipulation of the attribute dictionaries named `G.graph`, `G.nodes`, and\n",
    "`G.edges` for a graph `G`.\n",
    "\n",
    "## Graph attributes\n",
    "\n",
    "Assign graph attributes when creating a new graph"
   ]
  },
  {
   "cell_type": "code",
   "execution_count": 21,
   "id": "8428cb49",
   "metadata": {
    "execution": {
     "iopub.execute_input": "2021-07-09T18:16:13.179208Z",
     "iopub.status.busy": "2021-07-09T18:16:13.177840Z",
     "iopub.status.idle": "2021-07-09T18:16:13.183536Z",
     "shell.execute_reply": "2021-07-09T18:16:13.183098Z"
    }
   },
   "outputs": [
    {
     "data": {
      "text/plain": [
       "{'day': 'Friday'}"
      ]
     },
     "execution_count": 21,
     "metadata": {},
     "output_type": "execute_result"
    }
   ],
   "source": [
    "G = nx.Graph(day=\"Friday\")\n",
    "G.graph"
   ]
  },
  {
   "cell_type": "markdown",
   "id": "e6e2fa68",
   "metadata": {},
   "source": [
    "Or you can modify attributes later"
   ]
  },
  {
   "cell_type": "code",
   "execution_count": 22,
   "id": "62f6ba4d",
   "metadata": {
    "execution": {
     "iopub.execute_input": "2021-07-09T18:16:13.187161Z",
     "iopub.status.busy": "2021-07-09T18:16:13.186690Z",
     "iopub.status.idle": "2021-07-09T18:16:13.191854Z",
     "shell.execute_reply": "2021-07-09T18:16:13.191476Z"
    }
   },
   "outputs": [
    {
     "data": {
      "text/plain": [
       "{'day': 'Monday'}"
      ]
     },
     "execution_count": 22,
     "metadata": {},
     "output_type": "execute_result"
    }
   ],
   "source": [
    "G.graph['day'] = \"Monday\"\n",
    "G.graph"
   ]
  },
  {
   "cell_type": "markdown",
   "id": "eb4faa01",
   "metadata": {},
   "source": [
    "# Node attributes\n",
    "\n",
    "Add node attributes using `add_node()`, `add_nodes_from()`, or `G.nodes`"
   ]
  },
  {
   "cell_type": "code",
   "execution_count": 23,
   "id": "66e997b6",
   "metadata": {
    "execution": {
     "iopub.execute_input": "2021-07-09T18:16:13.195995Z",
     "iopub.status.busy": "2021-07-09T18:16:13.195469Z",
     "iopub.status.idle": "2021-07-09T18:16:13.200124Z",
     "shell.execute_reply": "2021-07-09T18:16:13.199718Z"
    }
   },
   "outputs": [
    {
     "data": {
      "text/plain": [
       "NodeDataView({1: {'time': '5pm', 'room': 714}, 3: {'time': '2pm'}})"
      ]
     },
     "execution_count": 23,
     "metadata": {},
     "output_type": "execute_result"
    }
   ],
   "source": [
    "G.add_node(1, time='5pm')\n",
    "G.add_nodes_from([3], time='2pm')\n",
    "G.nodes[1]\n",
    "G.nodes[1]['room'] = 714\n",
    "G.nodes.data()"
   ]
  },
  {
   "cell_type": "markdown",
   "id": "755c8d77",
   "metadata": {},
   "source": [
    "Note that adding a node to `G.nodes` does not add it to the graph, use\n",
    "`G.add_node()` to add new nodes. Similarly for edges.\n",
    "\n",
    "# Edge Attributes\n",
    "\n",
    "Add/change edge attributes using `add_edge()`, `add_edges_from()`,\n",
    "or subscript notation."
   ]
  },
  {
   "cell_type": "code",
   "execution_count": 24,
   "id": "c9e9b4ed",
   "metadata": {
    "execution": {
     "iopub.execute_input": "2021-07-09T18:16:13.204841Z",
     "iopub.status.busy": "2021-07-09T18:16:13.204361Z",
     "iopub.status.idle": "2021-07-09T18:16:13.207608Z",
     "shell.execute_reply": "2021-07-09T18:16:13.207185Z"
    }
   },
   "outputs": [],
   "source": [
    "G.add_edge(1, 2, weight=4.7 )\n",
    "G.add_edges_from([(3, 4), (4, 5)], color='red')\n",
    "G.add_edges_from([(1, 2, {'color': 'blue'}), (2, 3, {'weight': 8})])\n",
    "G[1][2]['weight'] = 4.7\n",
    "G.edges[3, 4]['weight'] = 4.2"
   ]
  },
  {
   "cell_type": "markdown",
   "id": "db96ab68",
   "metadata": {},
   "source": [
    "The special attribute `weight` should be numeric as it is used by\n",
    "algorithms requiring weighted edges.\n",
    "\n",
    " Directed graphs\n",
    "\n",
    "The `DiGraph` class provides additional methods and properties specific\n",
    "to directed edges, e.g.,\n",
    "`DiGraph.out_edges`, `DiGraph.in_degree`,\n",
    "`DiGraph.predecessors()`, `DiGraph.successors()` etc.\n",
    "To allow algorithms to work with both classes easily, the directed versions of\n",
    "`neighbors()` is equivalent to `successors()` while `degree` reports\n",
    "the sum of `in_degree` and `out_degree` even though that may feel\n",
    "inconsistent at times."
   ]
  },
  {
   "cell_type": "code",
   "execution_count": 25,
   "id": "bf82927b",
   "metadata": {
    "execution": {
     "iopub.execute_input": "2021-07-09T18:16:13.212950Z",
     "iopub.status.busy": "2021-07-09T18:16:13.212446Z",
     "iopub.status.idle": "2021-07-09T18:16:13.214898Z",
     "shell.execute_reply": "2021-07-09T18:16:13.215282Z"
    }
   },
   "outputs": [
    {
     "data": {
      "text/plain": [
       "[2]"
      ]
     },
     "execution_count": 25,
     "metadata": {},
     "output_type": "execute_result"
    }
   ],
   "source": [
    "DG = nx.DiGraph()\n",
    "DG.add_weighted_edges_from([(1, 2, 0.5), (3, 1, 0.75)])\n",
    "DG.out_degree(1, weight='weight')\n",
    "DG.degree(1, weight='weight')\n",
    "list(DG.successors(1))\n",
    "list(DG.neighbors(1))"
   ]
  },
  {
   "cell_type": "markdown",
   "id": "95c9cead",
   "metadata": {},
   "source": [
    "Some algorithms work only for directed graphs and others are not well\n",
    "defined for directed graphs.  Indeed the tendency to lump directed\n",
    "and undirected graphs together is dangerous.  If you want to treat\n",
    "a directed graph as undirected for some measurement you should probably\n",
    "convert it using `Graph.to_undirected()` or with"
   ]
  },
  {
   "cell_type": "code",
   "execution_count": 26,
   "id": "9f947366",
   "metadata": {
    "execution": {
     "iopub.execute_input": "2021-07-09T18:16:13.219413Z",
     "iopub.status.busy": "2021-07-09T18:16:13.218372Z",
     "iopub.status.idle": "2021-07-09T18:16:13.220575Z",
     "shell.execute_reply": "2021-07-09T18:16:13.220151Z"
    }
   },
   "outputs": [],
   "source": [
    "H = nx.Graph(G)  # create an undirected graph H from a directed graph G"
   ]
  },
  {
   "cell_type": "markdown",
   "id": "f3e6b53f",
   "metadata": {},
   "source": [
    "# Multigraphs\n",
    "\n",
    "NetworkX provides classes for graphs which allow multiple edges\n",
    "between any pair of nodes.  The `MultiGraph` and\n",
    "`MultiDiGraph`\n",
    "classes allow you to add the same edge twice, possibly with different\n",
    "edge data.  This can be powerful for some applications, but many\n",
    "algorithms are not well defined on such graphs.\n",
    "Where results are well defined,\n",
    "e.g., `MultiGraph.degree()` we provide the function.  Otherwise you\n",
    "should convert to a standard graph in a way that makes the measurement\n",
    "well defined."
   ]
  },
  {
   "cell_type": "code",
   "execution_count": 27,
   "id": "0df4231a",
   "metadata": {
    "execution": {
     "iopub.execute_input": "2021-07-09T18:16:13.228049Z",
     "iopub.status.busy": "2021-07-09T18:16:13.227327Z",
     "iopub.status.idle": "2021-07-09T18:16:13.229712Z",
     "shell.execute_reply": "2021-07-09T18:16:13.230107Z"
    }
   },
   "outputs": [
    {
     "data": {
      "text/plain": [
       "[1, 2, 3]"
      ]
     },
     "execution_count": 27,
     "metadata": {},
     "output_type": "execute_result"
    }
   ],
   "source": [
    "MG = nx.MultiGraph()\n",
    "MG.add_weighted_edges_from([(1, 2, 0.5), (1, 2, 0.75), (2, 3, 0.5)])\n",
    "dict(MG.degree(weight='weight'))\n",
    "GG = nx.Graph()\n",
    "for n, nbrs in MG.adjacency():\n",
    "   for nbr, edict in nbrs.items():\n",
    "       minvalue = min([d['weight'] for d in edict.values()])\n",
    "       GG.add_edge(n, nbr, weight = minvalue)\n",
    "\n",
    "nx.shortest_path(GG, 1, 3)"
   ]
  },
  {
   "cell_type": "markdown",
   "id": "9ea2a338",
   "metadata": {},
   "source": [
    "# Graph generators and graph operations\n",
    "\n",
    "In addition to constructing graphs node-by-node or edge-by-edge, they\n",
    "can also be generated by\n",
    "\n",
    "1. Applying classic graph operations, such as:\n",
    "\n",
    "1. Using a call to one of the classic small graphs, e.g.,\n",
    "\n",
    "1. Using a (constructive) generator for a classic graph, e.g.,\n",
    "\n",
    "like so:"
   ]
  },
  {
   "cell_type": "code",
   "execution_count": 28,
   "id": "638b0540",
   "metadata": {
    "execution": {
     "iopub.execute_input": "2021-07-09T18:16:13.235945Z",
     "iopub.status.busy": "2021-07-09T18:16:13.234867Z",
     "iopub.status.idle": "2021-07-09T18:16:13.236500Z",
     "shell.execute_reply": "2021-07-09T18:16:13.236875Z"
    }
   },
   "outputs": [],
   "source": [
    "K_5 = nx.complete_graph(5)\n",
    "K_3_5 = nx.complete_bipartite_graph(3, 5)\n",
    "barbell = nx.barbell_graph(10, 10)\n",
    "lollipop = nx.lollipop_graph(10, 20)"
   ]
  },
  {
   "cell_type": "markdown",
   "id": "3fda366b",
   "metadata": {},
   "source": [
    "1. Using a stochastic graph generator, e.g,\n",
    "\n",
    "like so:"
   ]
  },
  {
   "cell_type": "code",
   "execution_count": 29,
   "id": "8ee14bf8",
   "metadata": {
    "execution": {
     "iopub.execute_input": "2021-07-09T18:16:13.244435Z",
     "iopub.status.busy": "2021-07-09T18:16:13.243906Z",
     "iopub.status.idle": "2021-07-09T18:16:13.280619Z",
     "shell.execute_reply": "2021-07-09T18:16:13.279961Z"
    }
   },
   "outputs": [],
   "source": [
    "er = nx.erdos_renyi_graph(100, 0.15)\n",
    "ws = nx.watts_strogatz_graph(30, 3, 0.1)\n",
    "ba = nx.barabasi_albert_graph(100, 5)\n",
    "red = nx.random_lobster(100, 0.9, 0.9)"
   ]
  },
  {
   "cell_type": "markdown",
   "id": "d8769d17",
   "metadata": {},
   "source": [
    "1. Reading a graph stored in a file using common graph formats,\n",
    "   such as edge lists, adjacency lists, GML, GraphML, pickle, LEDA and others."
   ]
  },
  {
   "cell_type": "code",
   "execution_count": 30,
   "id": "8a8a5817",
   "metadata": {
    "execution": {
     "iopub.execute_input": "2021-07-09T18:16:13.297149Z",
     "iopub.status.busy": "2021-07-09T18:16:13.284393Z",
     "iopub.status.idle": "2021-07-09T18:16:14.926876Z",
     "shell.execute_reply": "2021-07-09T18:16:14.925872Z"
    }
   },
   "outputs": [],
   "source": [
    "nx.write_gml(red, \"path.to.file\")\n",
    "mygraph = nx.read_gml(\"path.to.file\")"
   ]
  },
  {
   "cell_type": "markdown",
   "id": "b046c725",
   "metadata": {},
   "source": [
    "For details on graph formats see Reading and writing graphs\n",
    "and for graph generator functions see Graph generators\n",
    "\n",
    "# Analyzing graphs\n",
    "\n",
    "The structure of `G` can be analyzed using various graph-theoretic\n",
    "functions such as:"
   ]
  },
  {
   "cell_type": "code",
   "execution_count": 31,
   "id": "b13ab300",
   "metadata": {
    "execution": {
     "iopub.execute_input": "2021-07-09T18:16:14.933480Z",
     "iopub.status.busy": "2021-07-09T18:16:14.932981Z",
     "iopub.status.idle": "2021-07-09T18:16:14.937787Z",
     "shell.execute_reply": "2021-07-09T18:16:14.937345Z"
    }
   },
   "outputs": [
    {
     "data": {
      "text/plain": [
       "{1: 0, 2: 0, 3: 0, 'spam': 0}"
      ]
     },
     "execution_count": 31,
     "metadata": {},
     "output_type": "execute_result"
    }
   ],
   "source": [
    "G = nx.Graph()\n",
    "G.add_edges_from([(1, 2), (1, 3)])\n",
    "G.add_node(\"spam\")       # adds node \"spam\"\n",
    "list(nx.connected_components(G))\n",
    "sorted(d for n, d in G.degree())\n",
    "nx.clustering(G)"
   ]
  },
  {
   "cell_type": "markdown",
   "id": "327b40df",
   "metadata": {},
   "source": [
    "Some functions with large output iterate over (node, value) 2-tuples.\n",
    "These are easily stored in a [dict](https://docs.python.org/3/library/stdtypes.html#dict) structure if you desire."
   ]
  },
  {
   "cell_type": "code",
   "execution_count": 32,
   "id": "372a3ce6",
   "metadata": {
    "execution": {
     "iopub.execute_input": "2021-07-09T18:16:14.942462Z",
     "iopub.status.busy": "2021-07-09T18:16:14.941948Z",
     "iopub.status.idle": "2021-07-09T18:16:14.946613Z",
     "shell.execute_reply": "2021-07-09T18:16:14.947020Z"
    }
   },
   "outputs": [
    {
     "data": {
      "text/plain": [
       "{3: [3], 1: [3, 1], 2: [3, 1, 2]}"
      ]
     },
     "execution_count": 32,
     "metadata": {},
     "output_type": "execute_result"
    }
   ],
   "source": [
    "sp = dict(nx.all_pairs_shortest_path(G))\n",
    "sp[3]"
   ]
  },
  {
   "cell_type": "markdown",
   "id": "738acc8f",
   "metadata": {},
   "source": [
    "See Algorithms for details on graph algorithms\n",
    "supported.\n",
    "\n",
    "# Drawing graphs\n",
    "\n",
    "NetworkX is not primarily a graph drawing package but basic drawing with\n",
    "Matplotlib as well as an interface to use the open source Graphviz software\n",
    "package are included.  These are part of the `networkx.drawing` module and will\n",
    "be imported if possible.\n",
    "\n",
    "First import Matplotlib’s plot interface (pylab works too)"
   ]
  },
  {
   "cell_type": "code",
   "execution_count": 33,
   "id": "47c92e1e",
   "metadata": {
    "execution": {
     "iopub.execute_input": "2021-07-09T18:16:14.950296Z",
     "iopub.status.busy": "2021-07-09T18:16:14.949818Z",
     "iopub.status.idle": "2021-07-09T18:16:15.197788Z",
     "shell.execute_reply": "2021-07-09T18:16:15.197122Z"
    }
   },
   "outputs": [],
   "source": [
    "import matplotlib.pyplot as plt"
   ]
  },
  {
   "cell_type": "markdown",
   "id": "9e050a5b",
   "metadata": {},
   "source": [
    "To test if the import of `networkx.drawing` was successful draw `G` using one of"
   ]
  },
  {
   "cell_type": "code",
   "execution_count": 34,
   "id": "58a970ec",
   "metadata": {
    "execution": {
     "iopub.execute_input": "2021-07-09T18:16:15.217810Z",
     "iopub.status.busy": "2021-07-09T18:16:15.217229Z",
     "iopub.status.idle": "2021-07-09T18:16:15.367428Z",
     "shell.execute_reply": "2021-07-09T18:16:15.366933Z"
    }
   },
   "outputs": [
    {
     "data": {
      "image/png": "[encoded data removed]",
      "text/plain": [
       "<Figure size 432x288 with 2 Axes>"
      ]
     },
     "metadata": {},
     "output_type": "display_data"
    }
   ],
   "source": [
    "G = nx.petersen_graph()\n",
    "subax1 = plt.subplot(121)\n",
    "nx.draw(G, with_labels=True, font_weight='bold')\n",
    "subax2 = plt.subplot(122)\n",
    "nx.draw_shell(G, nlist=[range(5, 10), range(5)], with_labels=True, font_weight='bold')"
   ]
  },
  {
   "cell_type": "markdown",
   "id": "4f440052",
   "metadata": {},
   "source": [
    "when drawing to an interactive display.  Note that you may need to issue a\n",
    "Matplotlib"
   ]
  },
  {
   "cell_type": "code",
   "execution_count": 35,
   "id": "a68c17bf",
   "metadata": {
    "execution": {
     "iopub.execute_input": "2021-07-09T18:16:15.371515Z",
     "iopub.status.busy": "2021-07-09T18:16:15.371005Z",
     "iopub.status.idle": "2021-07-09T18:16:15.372923Z",
     "shell.execute_reply": "2021-07-09T18:16:15.373324Z"
    }
   },
   "outputs": [],
   "source": [
    "plt.show()"
   ]
  },
  {
   "cell_type": "markdown",
   "id": "27b436ff",
   "metadata": {},
   "source": [
    "command if you are not using matplotlib in interactive mode (see\n",
    "[this Matplotlib FAQ](https://matplotlib.org/stable/faq/installing_faq.html))."
   ]
  },
  {
   "cell_type": "code",
   "execution_count": 36,
   "id": "5783c656",
   "metadata": {
    "execution": {
     "iopub.execute_input": "2021-07-09T18:16:15.398758Z",
     "iopub.status.busy": "2021-07-09T18:16:15.391018Z",
     "iopub.status.idle": "2021-07-09T18:16:15.566230Z",
     "shell.execute_reply": "2021-07-09T18:16:15.566958Z"
    }
   },
   "outputs": [
    {
     "data": {
      "image/png": "[encoded data removed]",
      "text/plain": [
       "<Figure size 432x288 with 4 Axes>"
      ]
     },
     "metadata": {},
     "output_type": "display_data"
    }
   ],
   "source": [
    "options = {\n",
    "    'node_color': 'black',\n",
    "    'node_size': 100,\n",
    "    'width': 3,\n",
    "}\n",
    "subax1 = plt.subplot(221)\n",
    "nx.draw_random(G, **options)\n",
    "subax2 = plt.subplot(222)\n",
    "nx.draw_circular(G, **options)\n",
    "subax3 = plt.subplot(223)\n",
    "nx.draw_spectral(G, **options)\n",
    "subax4 = plt.subplot(224)\n",
    "nx.draw_shell(G, nlist=[range(5,10), range(5)], **options)"
   ]
  },
  {
   "cell_type": "markdown",
   "id": "4a7e6129",
   "metadata": {},
   "source": [
    "You can find additional options via `draw_networkx()` and\n",
    "layouts via `layout`.\n",
    "You can use multiple shells with `draw_shell()`."
   ]
  },
  {
   "cell_type": "code",
   "execution_count": 37,
   "id": "58809d8a",
   "metadata": {
    "execution": {
     "iopub.execute_input": "2021-07-09T18:16:15.572910Z",
     "iopub.status.busy": "2021-07-09T18:16:15.572466Z",
     "iopub.status.idle": "2021-07-09T18:16:15.647163Z",
     "shell.execute_reply": "2021-07-09T18:16:15.647965Z"
    }
   },
   "outputs": [
    {
     "data": {
      "image/png": "[encoded data removed]",
      "text/plain": [
       "<Figure size 432x288 with 1 Axes>"
      ]
     },
     "metadata": {},
     "output_type": "display_data"
    }
   ],
   "source": [
    "G = nx.dodecahedral_graph()\n",
    "shells = [[2, 3, 4, 5, 6], [8, 1, 0, 19, 18, 17, 16, 15, 14, 7], [9, 10, 11, 12, 13]]\n",
    "nx.draw_shell(G, nlist=shells, **options)"
   ]
  },
  {
   "cell_type": "markdown",
   "id": "3af7c328",
   "metadata": {},
   "source": [
    "To save drawings to a file, use, for example"
   ]
  },
  {
   "cell_type": "code",
   "execution_count": 38,
   "id": "a5b0fd33",
   "metadata": {
    "execution": {
     "iopub.execute_input": "2021-07-09T18:16:15.664108Z",
     "iopub.status.busy": "2021-07-09T18:16:15.651979Z",
     "iopub.status.idle": "2021-07-09T18:16:15.760115Z",
     "shell.execute_reply": "2021-07-09T18:16:15.759567Z"
    }
   },
   "outputs": [
    {
     "data": {
      "image/png": "[encoded data removed]",
      "text/plain": [
       "<Figure size 432x288 with 1 Axes>"
      ]
     },
     "metadata": {},
     "output_type": "display_data"
    }
   ],
   "source": [
    "nx.draw(G)\n",
    "plt.savefig(\"path.png\")"
   ]
  },
  {
   "cell_type": "markdown",
   "id": "61438aed",
   "metadata": {},
   "source": [
    "writes to the file `path.png` in the local directory. If Graphviz and\n",
    "PyGraphviz or pydot, are available on your system, you can also use\n",
    "`nx_agraph.graphviz_layout(G)` or `nx_pydot.graphviz_layout(G)` to get the\n",
    "node positions, or write the graph in dot format for further processing."
   ]
  },
  {
   "cell_type": "code",
   "execution_count": 39,
   "id": "e6e62058",
   "metadata": {
    "execution": {
     "iopub.execute_input": "2021-07-09T18:16:15.765188Z",
     "iopub.status.busy": "2021-07-09T18:16:15.764731Z",
     "iopub.status.idle": "2021-07-09T18:16:15.939052Z",
     "shell.execute_reply": "2021-07-09T18:16:15.938497Z"
    }
   },
   "outputs": [
    {
     "data": {
      "image/png": "[encoded data removed]",
      "text/plain": [
       "<Figure size 432x288 with 1 Axes>"
      ]
     },
     "metadata": {},
     "output_type": "display_data"
    }
   ],
   "source": [
    "from networkx.drawing.nx_pydot import write_dot\n",
    "pos = nx.nx_agraph.graphviz_layout(G)\n",
    "nx.draw(G, pos=pos)\n",
    "write_dot(G, 'file.dot')"
   ]
  },
  {
   "cell_type": "markdown",
   "id": "71232864",
   "metadata": {},
   "source": [
    "See Drawing for additional details."
   ]
  }
 ],
 "metadata": {
  "language_info": {
   "codemirror_mode": {
    "name": "ipython",
    "version": 3
   },
   "file_extension": ".py",
   "mimetype": "text/x-python",
   "name": "python",
   "nbconvert_exporter": "python",
   "pygments_lexer": "ipython3",
   "version": "3.8.10"
  }
 },
 "nbformat": 4,
 "nbformat_minor": 5
}
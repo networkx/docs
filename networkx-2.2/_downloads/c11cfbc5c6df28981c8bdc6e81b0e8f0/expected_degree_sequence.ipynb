{
  "nbformat_minor": 0, 
  "nbformat": 4, 
  "cells": [
    {
      "execution_count": null, 
      "cell_type": "code", 
      "source": [
        "%matplotlib inline"
      ], 
      "outputs": [], 
      "metadata": {
        "collapsed": false
      }
    }, 
    {
      "source": [
        "\n# Expected Degree Sequence\n\n\nRandom graph from given degree sequence.\n\n"
      ], 
      "cell_type": "markdown", 
      "metadata": {}
    }, 
    {
      "execution_count": null, 
      "cell_type": "code", 
      "source": [
        "# Author: Aric Hagberg (hagberg@lanl.gov)\n\n#    Copyright (C) 2006-2018 by\n#    Aric Hagberg <hagberg@lanl.gov>\n#    Dan Schult <dschult@colgate.edu>\n#    Pieter Swart <swart@lanl.gov>\n#    All rights reserved.\n#    BSD license.\n\nimport networkx as nx\nfrom networkx.generators.degree_seq import expected_degree_graph\n\n# make a random graph of 500 nodes with expected degrees of 50\nn = 500  # n nodes\np = 0.1\nw = [p * n for i in range(n)]  # w = p*n for all nodes\nG = expected_degree_graph(w)  # configuration model\nprint(\"Degree histogram\")\nprint(\"degree (#nodes) ****\")\ndh = nx.degree_histogram(G)\nlow = min(nx.degree(G))\nfor i in range(low, len(dh)):\n    bar = ''.join(dh[i] * ['*'])\n    print(\"%2s (%2s) %s\" % (i, dh[i], bar))"
      ], 
      "outputs": [], 
      "metadata": {
        "collapsed": false
      }
    }
  ], 
  "metadata": {
    "kernelspec": {
      "display_name": "Python 2", 
      "name": "python2", 
      "language": "python"
    }, 
    "language_info": {
      "mimetype": "text/x-python", 
      "nbconvert_exporter": "python", 
      "name": "python", 
      "file_extension": ".py", 
      "version": "2.7.14", 
      "pygments_lexer": "ipython2", 
      "codemirror_mode": {
        "version": 2, 
        "name": "ipython"
      }
    }
  }
}
{
  "nbformat_minor": 0, 
  "nbformat": 4, 
  "cells": [
    {
      "execution_count": null, 
      "cell_type": "code", 
      "source": [
        "%matplotlib inline"
      ], 
      "outputs": [], 
      "metadata": {
        "collapsed": false
      }
    }, 
    {
      "source": [
        "\n# Directed Graph\n\n\nDraw a graph with directed edges using a colormap and different node sizes.\n\nEdges have different colors and alphas (opacity). Drawn using matplotlib.\n\n"
      ], 
      "cell_type": "markdown", 
      "metadata": {}
    }, 
    {
      "execution_count": null, 
      "cell_type": "code", 
      "source": [
        "# Author: Rodrigo Dorantes-Gilardi (rodgdor@gmail.com)\n\nfrom __future__ import division\nimport matplotlib as mpl\nimport matplotlib.pyplot as plt\nimport networkx as nx\n\nG = nx.generators.directed.random_k_out_graph(10, 3, 0.5)\npos = nx.layout.spring_layout(G)\n\nnode_sizes = [3 + 10 * i for i in range(len(G))]\nM = G.number_of_edges()\nedge_colors = range(2, M + 2)\nedge_alphas = [(5 + i) / (M + 4) for i in range(M)]\n\nnodes = nx.draw_networkx_nodes(G, pos, node_size=node_sizes, node_color='blue')\nedges = nx.draw_networkx_edges(G, pos, node_size=node_sizes, arrowstyle='->',\n                               arrowsize=10, edge_color=edge_colors,\n                               edge_cmap=plt.cm.Blues, width=2)\n# set alpha value for each edge\nfor i in range(M):\n    edges[i].set_alpha(edge_alphas[i])\n\npc = mpl.collections.PatchCollection(edges, cmap=plt.cm.Blues)\npc.set_array(edge_colors)\nplt.colorbar(pc)\n\nax = plt.gca()\nax.set_axis_off()\nplt.show()"
      ], 
      "outputs": [], 
      "metadata": {
        "collapsed": false
      }
    }
  ], 
  "metadata": {
    "kernelspec": {
      "display_name": "Python 2", 
      "name": "python2", 
      "language": "python"
    }, 
    "language_info": {
      "mimetype": "text/x-python", 
      "nbconvert_exporter": "python", 
      "name": "python", 
      "file_extension": ".py", 
      "version": "2.7.14", 
      "pygments_lexer": "ipython2", 
      "codemirror_mode": {
        "version": 2, 
        "name": "ipython"
      }
    }
  }
}